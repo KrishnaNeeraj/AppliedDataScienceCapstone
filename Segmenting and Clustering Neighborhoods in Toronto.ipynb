{
    "nbformat_minor": 1, 
    "cells": [
        {
            "source": "# Import Libraries", 
            "cell_type": "markdown", 
            "metadata": {}
        }, 
        {
            "source": "import pandas as pd\nimport numpy as np\nfrom bs4 import BeautifulSoup\nimport requests", 
            "cell_type": "code", 
            "metadata": {}, 
            "outputs": [], 
            "execution_count": 2
        }, 
        {
            "source": "# Get Data from WikiPedia and use BeautifulSoup", 
            "cell_type": "markdown", 
            "metadata": {}
        }, 
        {
            "source": "Wikilink='https://en.wikipedia.org/wiki/List_of_postal_codes_of_Canada:_M'\nWikiPage= requests.get(Wikilink).text\n\n# using beautiful soup to parse the HTML/XML codes.\nsoup = BeautifulSoup(WikiPage,'xml')\n#print(soup.prettify())", 
            "cell_type": "code", 
            "metadata": {}, 
            "outputs": [], 
            "execution_count": 5
        }, 
        {
            "source": "# Get Data from WikiPedia and use BeautifulSoup", 
            "cell_type": "markdown", 
            "metadata": {}
        }, 
        {
            "source": "\n\nurl = \"https://en.wikipedia.org/wiki/List_of_postal_codes_of_Canada:_M\"\n\ntext_result = requests.get(url).text #get the entire html of the article as a str\nhtml_parsed_result = BeautifulSoup(text_result, 'html.parser') #transform the text to html\n\nneighborhood_table = html_parsed_result.find('table', class_ = 'wikitable')\nneighborhood_table_rows = neighborhood_table.find_all('tr')\n\n# extract the info ('Postcode', 'Borough', 'Neighbourhood') from the table\nneighborhood_info = []\nfor row in neighborhood_table_rows:\n    info = row.text.split('\\n')[1:-1] \n    neighborhood_info.append(info)\n    \nneighborhood_info[0:10]\n       ", 
            "cell_type": "code", 
            "metadata": {}, 
            "outputs": [
                {
                    "output_type": "execute_result", 
                    "data": {
                        "text/plain": "[['Postcode', 'Borough', 'Neighbourhood'],\n ['M1A', 'Not assigned', 'Not assigned'],\n ['M2A', 'Not assigned', 'Not assigned'],\n ['M3A', 'North York', 'Parkwoods'],\n ['M4A', 'North York', 'Victoria Village'],\n ['M5A', 'Downtown Toronto', 'Harbourfront'],\n ['M5A', 'Downtown Toronto', 'Regent Park'],\n ['M6A', 'North York', 'Lawrence Heights'],\n ['M6A', 'North York', 'Lawrence Manor'],\n ['M7A', \"Queen's Park\", 'Not assigned']]"
                    }, 
                    "execution_count": 6, 
                    "metadata": {}
                }
            ], 
            "execution_count": 6
        }, 
        {
            "source": "# Create Neighbourhood DataFrame ", 
            "cell_type": "markdown", 
            "metadata": {}
        }, 
        {
            "source": "neighborhood_info[0][-1] = 'Neighborhood'\nneighborhood_df = pd.DataFrame(neighborhood_info[1:], columns=neighborhood_info[0])\n\nneighborhood_df.head(10)", 
            "cell_type": "code", 
            "metadata": {}, 
            "outputs": [
                {
                    "output_type": "execute_result", 
                    "data": {
                        "text/plain": "  Postcode           Borough      Neighborhood\n0      M1A      Not assigned      Not assigned\n1      M2A      Not assigned      Not assigned\n2      M3A        North York         Parkwoods\n3      M4A        North York  Victoria Village\n4      M5A  Downtown Toronto      Harbourfront\n5      M5A  Downtown Toronto       Regent Park\n6      M6A        North York  Lawrence Heights\n7      M6A        North York    Lawrence Manor\n8      M7A      Queen's Park      Not assigned\n9      M8A      Not assigned      Not assigned", 
                        "text/html": "<div>\n<style scoped>\n    .dataframe tbody tr th:only-of-type {\n        vertical-align: middle;\n    }\n\n    .dataframe tbody tr th {\n        vertical-align: top;\n    }\n\n    .dataframe thead th {\n        text-align: right;\n    }\n</style>\n<table border=\"1\" class=\"dataframe\">\n  <thead>\n    <tr style=\"text-align: right;\">\n      <th></th>\n      <th>Postcode</th>\n      <th>Borough</th>\n      <th>Neighborhood</th>\n    </tr>\n  </thead>\n  <tbody>\n    <tr>\n      <th>0</th>\n      <td>M1A</td>\n      <td>Not assigned</td>\n      <td>Not assigned</td>\n    </tr>\n    <tr>\n      <th>1</th>\n      <td>M2A</td>\n      <td>Not assigned</td>\n      <td>Not assigned</td>\n    </tr>\n    <tr>\n      <th>2</th>\n      <td>M3A</td>\n      <td>North York</td>\n      <td>Parkwoods</td>\n    </tr>\n    <tr>\n      <th>3</th>\n      <td>M4A</td>\n      <td>North York</td>\n      <td>Victoria Village</td>\n    </tr>\n    <tr>\n      <th>4</th>\n      <td>M5A</td>\n      <td>Downtown Toronto</td>\n      <td>Harbourfront</td>\n    </tr>\n    <tr>\n      <th>5</th>\n      <td>M5A</td>\n      <td>Downtown Toronto</td>\n      <td>Regent Park</td>\n    </tr>\n    <tr>\n      <th>6</th>\n      <td>M6A</td>\n      <td>North York</td>\n      <td>Lawrence Heights</td>\n    </tr>\n    <tr>\n      <th>7</th>\n      <td>M6A</td>\n      <td>North York</td>\n      <td>Lawrence Manor</td>\n    </tr>\n    <tr>\n      <th>8</th>\n      <td>M7A</td>\n      <td>Queen's Park</td>\n      <td>Not assigned</td>\n    </tr>\n    <tr>\n      <th>9</th>\n      <td>M8A</td>\n      <td>Not assigned</td>\n      <td>Not assigned</td>\n    </tr>\n  </tbody>\n</table>\n</div>"
                    }, 
                    "execution_count": 7, 
                    "metadata": {}
                }
            ], 
            "execution_count": 7
        }, 
        {
            "source": "#    # Filter out Not Assigned  for Borough and Neighborhood columns", 
            "cell_type": "markdown", 
            "metadata": {}
        }, 
        {
            "source": "not_assigned_boroughs = neighborhood_df.index[neighborhood_df['Borough'] == 'Not assigned']\nnot_assigned_neighborhoods = neighborhood_df.index[neighborhood_df['Neighborhood'] == 'Not assigned']\n", 
            "cell_type": "code", 
            "metadata": {}, 
            "outputs": [], 
            "execution_count": 8
        }, 
        {
            "source": "not_assigned_neighborhoods_and_borough = not_assigned_boroughs & not_assigned_neighborhoods\nneighborhood_df.drop(neighborhood_df.index[not_assigned_boroughs], inplace=True)\nneighborhood_df.reset_index(drop=True, inplace=True)\n\nneighborhood_df.head(10)", 
            "cell_type": "code", 
            "metadata": {}, 
            "outputs": [
                {
                    "output_type": "execute_result", 
                    "data": {
                        "text/plain": "  Postcode           Borough      Neighborhood\n0      M3A        North York         Parkwoods\n1      M4A        North York  Victoria Village\n2      M5A  Downtown Toronto      Harbourfront\n3      M5A  Downtown Toronto       Regent Park\n4      M6A        North York  Lawrence Heights\n5      M6A        North York    Lawrence Manor\n6      M7A      Queen's Park      Not assigned\n7      M9A         Etobicoke  Islington Avenue\n8      M1B       Scarborough             Rouge\n9      M1B       Scarborough           Malvern", 
                        "text/html": "<div>\n<style scoped>\n    .dataframe tbody tr th:only-of-type {\n        vertical-align: middle;\n    }\n\n    .dataframe tbody tr th {\n        vertical-align: top;\n    }\n\n    .dataframe thead th {\n        text-align: right;\n    }\n</style>\n<table border=\"1\" class=\"dataframe\">\n  <thead>\n    <tr style=\"text-align: right;\">\n      <th></th>\n      <th>Postcode</th>\n      <th>Borough</th>\n      <th>Neighborhood</th>\n    </tr>\n  </thead>\n  <tbody>\n    <tr>\n      <th>0</th>\n      <td>M3A</td>\n      <td>North York</td>\n      <td>Parkwoods</td>\n    </tr>\n    <tr>\n      <th>1</th>\n      <td>M4A</td>\n      <td>North York</td>\n      <td>Victoria Village</td>\n    </tr>\n    <tr>\n      <th>2</th>\n      <td>M5A</td>\n      <td>Downtown Toronto</td>\n      <td>Harbourfront</td>\n    </tr>\n    <tr>\n      <th>3</th>\n      <td>M5A</td>\n      <td>Downtown Toronto</td>\n      <td>Regent Park</td>\n    </tr>\n    <tr>\n      <th>4</th>\n      <td>M6A</td>\n      <td>North York</td>\n      <td>Lawrence Heights</td>\n    </tr>\n    <tr>\n      <th>5</th>\n      <td>M6A</td>\n      <td>North York</td>\n      <td>Lawrence Manor</td>\n    </tr>\n    <tr>\n      <th>6</th>\n      <td>M7A</td>\n      <td>Queen's Park</td>\n      <td>Not assigned</td>\n    </tr>\n    <tr>\n      <th>7</th>\n      <td>M9A</td>\n      <td>Etobicoke</td>\n      <td>Islington Avenue</td>\n    </tr>\n    <tr>\n      <th>8</th>\n      <td>M1B</td>\n      <td>Scarborough</td>\n      <td>Rouge</td>\n    </tr>\n    <tr>\n      <th>9</th>\n      <td>M1B</td>\n      <td>Scarborough</td>\n      <td>Malvern</td>\n    </tr>\n  </tbody>\n</table>\n</div>"
                    }, 
                    "execution_count": 9, 
                    "metadata": {}
                }
            ], 
            "execution_count": 9
        }, 
        {
            "source": "\n\nnot_assigned_neighborhoods = neighborhood_df.index[neighborhood_df['Neighborhood'] == 'Not assigned'] # run this again because the indexes on the dataframe where reset\n\nfor idx in not_assigned_neighborhoods:\n    neighborhood_df['Neighborhood'][idx] = neighborhood_df['Borough'][idx]\n    \nneighborhood_df.head(10)\n\n", 
            "cell_type": "code", 
            "metadata": {}, 
            "outputs": [
                {
                    "output_type": "execute_result", 
                    "data": {
                        "text/plain": "  Postcode           Borough      Neighborhood\n0      M3A        North York         Parkwoods\n1      M4A        North York  Victoria Village\n2      M5A  Downtown Toronto      Harbourfront\n3      M5A  Downtown Toronto       Regent Park\n4      M6A        North York  Lawrence Heights\n5      M6A        North York    Lawrence Manor\n6      M7A      Queen's Park      Queen's Park\n7      M9A         Etobicoke  Islington Avenue\n8      M1B       Scarborough             Rouge\n9      M1B       Scarborough           Malvern", 
                        "text/html": "<div>\n<style scoped>\n    .dataframe tbody tr th:only-of-type {\n        vertical-align: middle;\n    }\n\n    .dataframe tbody tr th {\n        vertical-align: top;\n    }\n\n    .dataframe thead th {\n        text-align: right;\n    }\n</style>\n<table border=\"1\" class=\"dataframe\">\n  <thead>\n    <tr style=\"text-align: right;\">\n      <th></th>\n      <th>Postcode</th>\n      <th>Borough</th>\n      <th>Neighborhood</th>\n    </tr>\n  </thead>\n  <tbody>\n    <tr>\n      <th>0</th>\n      <td>M3A</td>\n      <td>North York</td>\n      <td>Parkwoods</td>\n    </tr>\n    <tr>\n      <th>1</th>\n      <td>M4A</td>\n      <td>North York</td>\n      <td>Victoria Village</td>\n    </tr>\n    <tr>\n      <th>2</th>\n      <td>M5A</td>\n      <td>Downtown Toronto</td>\n      <td>Harbourfront</td>\n    </tr>\n    <tr>\n      <th>3</th>\n      <td>M5A</td>\n      <td>Downtown Toronto</td>\n      <td>Regent Park</td>\n    </tr>\n    <tr>\n      <th>4</th>\n      <td>M6A</td>\n      <td>North York</td>\n      <td>Lawrence Heights</td>\n    </tr>\n    <tr>\n      <th>5</th>\n      <td>M6A</td>\n      <td>North York</td>\n      <td>Lawrence Manor</td>\n    </tr>\n    <tr>\n      <th>6</th>\n      <td>M7A</td>\n      <td>Queen's Park</td>\n      <td>Queen's Park</td>\n    </tr>\n    <tr>\n      <th>7</th>\n      <td>M9A</td>\n      <td>Etobicoke</td>\n      <td>Islington Avenue</td>\n    </tr>\n    <tr>\n      <th>8</th>\n      <td>M1B</td>\n      <td>Scarborough</td>\n      <td>Rouge</td>\n    </tr>\n    <tr>\n      <th>9</th>\n      <td>M1B</td>\n      <td>Scarborough</td>\n      <td>Malvern</td>\n    </tr>\n  </tbody>\n</table>\n</div>"
                    }, 
                    "execution_count": 11, 
                    "metadata": {}
                }
            ], 
            "execution_count": 11
        }, 
        {
            "source": "# Printing Data Frame Details;", 
            "cell_type": "markdown", 
            "metadata": {}
        }, 
        {
            "source": "\n\nprint('After cleaning the DataFrame, its new shape is {}'.format(neighborhood_df.shape),'\\n')\nprint('There are:')\nprint('  {} Postal codes'.format(neighborhood_df['Postcode'].unique().shape[0]))\nprint('  {} Boroughs'.format(neighborhood_df['Borough'].unique().shape[0]))\nprint('  {} Neighborhoods'.format(neighborhood_df['Neighborhood'].unique().shape[0]))\n\n", 
            "cell_type": "code", 
            "metadata": {}, 
            "outputs": [
                {
                    "output_type": "stream", 
                    "name": "stdout", 
                    "text": "After cleaning the DataFrame, its new shape is (212, 3) \n\nThere are:\n  103 Postal codes\n  11 Boroughs\n  210 Neighborhoods\n"
                }
            ], 
            "execution_count": 12
        }, 
        {
            "source": "## Note there are more Neighbourhoods than postal code. So We will merge Neighbourhood which has common PostalCode.", 
            "cell_type": "markdown", 
            "metadata": {}
        }, 
        {
            "source": "# Grouping of Neighbourhood based on PIN Code", 
            "cell_type": "markdown", 
            "metadata": {}
        }, 
        {
            "source": "group = neighborhood_df.groupby('Postcode')\ngrouped_neighborhoods = group['Neighborhood'].apply(lambda x: \"%s\" % ', '.join(x))\ngrouped_boroughs = group['Borough'].apply(lambda x: set(x).pop())\ngrouped_df = pd.DataFrame(list(zip(grouped_boroughs.index, grouped_boroughs, grouped_neighborhoods)))\ngrouped_df.columns = ['Postcode', 'Borough', 'Neighborhood']\n\ngrouped_df.head(10)", 
            "cell_type": "code", 
            "metadata": {}, 
            "outputs": [
                {
                    "output_type": "execute_result", 
                    "data": {
                        "text/plain": "  Postcode      Borough                                     Neighborhood\n0      M1B  Scarborough                                   Rouge, Malvern\n1      M1C  Scarborough           Highland Creek, Rouge Hill, Port Union\n2      M1E  Scarborough                Guildwood, Morningside, West Hill\n3      M1G  Scarborough                                           Woburn\n4      M1H  Scarborough                                        Cedarbrae\n5      M1J  Scarborough                              Scarborough Village\n6      M1K  Scarborough      East Birchmount Park, Ionview, Kennedy Park\n7      M1L  Scarborough                  Clairlea, Golden Mile, Oakridge\n8      M1M  Scarborough  Cliffcrest, Cliffside, Scarborough Village West\n9      M1N  Scarborough                      Birch Cliff, Cliffside West", 
                        "text/html": "<div>\n<style scoped>\n    .dataframe tbody tr th:only-of-type {\n        vertical-align: middle;\n    }\n\n    .dataframe tbody tr th {\n        vertical-align: top;\n    }\n\n    .dataframe thead th {\n        text-align: right;\n    }\n</style>\n<table border=\"1\" class=\"dataframe\">\n  <thead>\n    <tr style=\"text-align: right;\">\n      <th></th>\n      <th>Postcode</th>\n      <th>Borough</th>\n      <th>Neighborhood</th>\n    </tr>\n  </thead>\n  <tbody>\n    <tr>\n      <th>0</th>\n      <td>M1B</td>\n      <td>Scarborough</td>\n      <td>Rouge, Malvern</td>\n    </tr>\n    <tr>\n      <th>1</th>\n      <td>M1C</td>\n      <td>Scarborough</td>\n      <td>Highland Creek, Rouge Hill, Port Union</td>\n    </tr>\n    <tr>\n      <th>2</th>\n      <td>M1E</td>\n      <td>Scarborough</td>\n      <td>Guildwood, Morningside, West Hill</td>\n    </tr>\n    <tr>\n      <th>3</th>\n      <td>M1G</td>\n      <td>Scarborough</td>\n      <td>Woburn</td>\n    </tr>\n    <tr>\n      <th>4</th>\n      <td>M1H</td>\n      <td>Scarborough</td>\n      <td>Cedarbrae</td>\n    </tr>\n    <tr>\n      <th>5</th>\n      <td>M1J</td>\n      <td>Scarborough</td>\n      <td>Scarborough Village</td>\n    </tr>\n    <tr>\n      <th>6</th>\n      <td>M1K</td>\n      <td>Scarborough</td>\n      <td>East Birchmount Park, Ionview, Kennedy Park</td>\n    </tr>\n    <tr>\n      <th>7</th>\n      <td>M1L</td>\n      <td>Scarborough</td>\n      <td>Clairlea, Golden Mile, Oakridge</td>\n    </tr>\n    <tr>\n      <th>8</th>\n      <td>M1M</td>\n      <td>Scarborough</td>\n      <td>Cliffcrest, Cliffside, Scarborough Village West</td>\n    </tr>\n    <tr>\n      <th>9</th>\n      <td>M1N</td>\n      <td>Scarborough</td>\n      <td>Birch Cliff, Cliffside West</td>\n    </tr>\n  </tbody>\n</table>\n</div>"
                    }, 
                    "execution_count": 13, 
                    "metadata": {}
                }
            ], 
            "execution_count": 13
        }, 
        {
            "source": "\n\nprint('The DataFrame shape is', grouped_df.shape)\n\n", 
            "cell_type": "code", 
            "metadata": {}, 
            "outputs": [
                {
                    "output_type": "stream", 
                    "name": "stdout", 
                    "text": "The DataFrame shape is (103, 3)\n"
                }
            ], 
            "execution_count": 14
        }, 
        {
            "source": "# Get Co-Ordinates for each Postal Code", 
            "cell_type": "markdown", 
            "metadata": {}
        }, 
        {
            "source": "\ncoordinates_df = pd.read_csv('https://cocl.us/Geospatial_data') # transform the csv file into a dataframe\n\nprint('The coordinates dataframe shape is', coordinates_df.shape)\ncoordinates_df.head()\n\n", 
            "cell_type": "code", 
            "metadata": {}, 
            "outputs": [
                {
                    "output_type": "stream", 
                    "name": "stdout", 
                    "text": "The coordinates dataframe shape is (103, 3)\n"
                }, 
                {
                    "output_type": "execute_result", 
                    "data": {
                        "text/plain": "  Postal Code   Latitude  Longitude\n0         M1B  43.806686 -79.194353\n1         M1C  43.784535 -79.160497\n2         M1E  43.763573 -79.188711\n3         M1G  43.770992 -79.216917\n4         M1H  43.773136 -79.239476", 
                        "text/html": "<div>\n<style scoped>\n    .dataframe tbody tr th:only-of-type {\n        vertical-align: middle;\n    }\n\n    .dataframe tbody tr th {\n        vertical-align: top;\n    }\n\n    .dataframe thead th {\n        text-align: right;\n    }\n</style>\n<table border=\"1\" class=\"dataframe\">\n  <thead>\n    <tr style=\"text-align: right;\">\n      <th></th>\n      <th>Postal Code</th>\n      <th>Latitude</th>\n      <th>Longitude</th>\n    </tr>\n  </thead>\n  <tbody>\n    <tr>\n      <th>0</th>\n      <td>M1B</td>\n      <td>43.806686</td>\n      <td>-79.194353</td>\n    </tr>\n    <tr>\n      <th>1</th>\n      <td>M1C</td>\n      <td>43.784535</td>\n      <td>-79.160497</td>\n    </tr>\n    <tr>\n      <th>2</th>\n      <td>M1E</td>\n      <td>43.763573</td>\n      <td>-79.188711</td>\n    </tr>\n    <tr>\n      <th>3</th>\n      <td>M1G</td>\n      <td>43.770992</td>\n      <td>-79.216917</td>\n    </tr>\n    <tr>\n      <th>4</th>\n      <td>M1H</td>\n      <td>43.773136</td>\n      <td>-79.239476</td>\n    </tr>\n  </tbody>\n</table>\n</div>"
                    }, 
                    "execution_count": 15, 
                    "metadata": {}
                }
            ], 
            "execution_count": 15
        }, 
        {
            "source": "postcodes_with_coordinates_df = grouped_df.join(coordinates_df.set_index('Postal Code'), on='Postcode')\n\npostcodes_with_coordinates_df.head(16)", 
            "cell_type": "code", 
            "metadata": {}, 
            "outputs": [
                {
                    "output_type": "execute_result", 
                    "data": {
                        "text/plain": "   Postcode      Borough                                       Neighborhood  \\\n0       M1B  Scarborough                                     Rouge, Malvern   \n1       M1C  Scarborough             Highland Creek, Rouge Hill, Port Union   \n2       M1E  Scarborough                  Guildwood, Morningside, West Hill   \n3       M1G  Scarborough                                             Woburn   \n4       M1H  Scarborough                                          Cedarbrae   \n5       M1J  Scarborough                                Scarborough Village   \n6       M1K  Scarborough        East Birchmount Park, Ionview, Kennedy Park   \n7       M1L  Scarborough                    Clairlea, Golden Mile, Oakridge   \n8       M1M  Scarborough    Cliffcrest, Cliffside, Scarborough Village West   \n9       M1N  Scarborough                        Birch Cliff, Cliffside West   \n10      M1P  Scarborough  Dorset Park, Scarborough Town Centre, Wexford ...   \n11      M1R  Scarborough                                  Maryvale, Wexford   \n12      M1S  Scarborough                                          Agincourt   \n13      M1T  Scarborough            Clarks Corners, Sullivan, Tam O'Shanter   \n14      M1V  Scarborough  Agincourt North, L'Amoreaux East, Milliken, St...   \n15      M1W  Scarborough                      L'Amoreaux West, Steeles West   \n\n     Latitude  Longitude  \n0   43.806686 -79.194353  \n1   43.784535 -79.160497  \n2   43.763573 -79.188711  \n3   43.770992 -79.216917  \n4   43.773136 -79.239476  \n5   43.744734 -79.239476  \n6   43.727929 -79.262029  \n7   43.711112 -79.284577  \n8   43.716316 -79.239476  \n9   43.692657 -79.264848  \n10  43.757410 -79.273304  \n11  43.750072 -79.295849  \n12  43.794200 -79.262029  \n13  43.781638 -79.304302  \n14  43.815252 -79.284577  \n15  43.799525 -79.318389  ", 
                        "text/html": "<div>\n<style scoped>\n    .dataframe tbody tr th:only-of-type {\n        vertical-align: middle;\n    }\n\n    .dataframe tbody tr th {\n        vertical-align: top;\n    }\n\n    .dataframe thead th {\n        text-align: right;\n    }\n</style>\n<table border=\"1\" class=\"dataframe\">\n  <thead>\n    <tr style=\"text-align: right;\">\n      <th></th>\n      <th>Postcode</th>\n      <th>Borough</th>\n      <th>Neighborhood</th>\n      <th>Latitude</th>\n      <th>Longitude</th>\n    </tr>\n  </thead>\n  <tbody>\n    <tr>\n      <th>0</th>\n      <td>M1B</td>\n      <td>Scarborough</td>\n      <td>Rouge, Malvern</td>\n      <td>43.806686</td>\n      <td>-79.194353</td>\n    </tr>\n    <tr>\n      <th>1</th>\n      <td>M1C</td>\n      <td>Scarborough</td>\n      <td>Highland Creek, Rouge Hill, Port Union</td>\n      <td>43.784535</td>\n      <td>-79.160497</td>\n    </tr>\n    <tr>\n      <th>2</th>\n      <td>M1E</td>\n      <td>Scarborough</td>\n      <td>Guildwood, Morningside, West Hill</td>\n      <td>43.763573</td>\n      <td>-79.188711</td>\n    </tr>\n    <tr>\n      <th>3</th>\n      <td>M1G</td>\n      <td>Scarborough</td>\n      <td>Woburn</td>\n      <td>43.770992</td>\n      <td>-79.216917</td>\n    </tr>\n    <tr>\n      <th>4</th>\n      <td>M1H</td>\n      <td>Scarborough</td>\n      <td>Cedarbrae</td>\n      <td>43.773136</td>\n      <td>-79.239476</td>\n    </tr>\n    <tr>\n      <th>5</th>\n      <td>M1J</td>\n      <td>Scarborough</td>\n      <td>Scarborough Village</td>\n      <td>43.744734</td>\n      <td>-79.239476</td>\n    </tr>\n    <tr>\n      <th>6</th>\n      <td>M1K</td>\n      <td>Scarborough</td>\n      <td>East Birchmount Park, Ionview, Kennedy Park</td>\n      <td>43.727929</td>\n      <td>-79.262029</td>\n    </tr>\n    <tr>\n      <th>7</th>\n      <td>M1L</td>\n      <td>Scarborough</td>\n      <td>Clairlea, Golden Mile, Oakridge</td>\n      <td>43.711112</td>\n      <td>-79.284577</td>\n    </tr>\n    <tr>\n      <th>8</th>\n      <td>M1M</td>\n      <td>Scarborough</td>\n      <td>Cliffcrest, Cliffside, Scarborough Village West</td>\n      <td>43.716316</td>\n      <td>-79.239476</td>\n    </tr>\n    <tr>\n      <th>9</th>\n      <td>M1N</td>\n      <td>Scarborough</td>\n      <td>Birch Cliff, Cliffside West</td>\n      <td>43.692657</td>\n      <td>-79.264848</td>\n    </tr>\n    <tr>\n      <th>10</th>\n      <td>M1P</td>\n      <td>Scarborough</td>\n      <td>Dorset Park, Scarborough Town Centre, Wexford ...</td>\n      <td>43.757410</td>\n      <td>-79.273304</td>\n    </tr>\n    <tr>\n      <th>11</th>\n      <td>M1R</td>\n      <td>Scarborough</td>\n      <td>Maryvale, Wexford</td>\n      <td>43.750072</td>\n      <td>-79.295849</td>\n    </tr>\n    <tr>\n      <th>12</th>\n      <td>M1S</td>\n      <td>Scarborough</td>\n      <td>Agincourt</td>\n      <td>43.794200</td>\n      <td>-79.262029</td>\n    </tr>\n    <tr>\n      <th>13</th>\n      <td>M1T</td>\n      <td>Scarborough</td>\n      <td>Clarks Corners, Sullivan, Tam O'Shanter</td>\n      <td>43.781638</td>\n      <td>-79.304302</td>\n    </tr>\n    <tr>\n      <th>14</th>\n      <td>M1V</td>\n      <td>Scarborough</td>\n      <td>Agincourt North, L'Amoreaux East, Milliken, St...</td>\n      <td>43.815252</td>\n      <td>-79.284577</td>\n    </tr>\n    <tr>\n      <th>15</th>\n      <td>M1W</td>\n      <td>Scarborough</td>\n      <td>L'Amoreaux West, Steeles West</td>\n      <td>43.799525</td>\n      <td>-79.318389</td>\n    </tr>\n  </tbody>\n</table>\n</div>"
                    }, 
                    "execution_count": 16, 
                    "metadata": {}
                }
            ], 
            "execution_count": 16
        }, 
        {
            "source": "# Use FourSquare to get Venues bases on Longitude and Latitudes", 
            "cell_type": "markdown", 
            "metadata": {}
        }, 
        {
            "source": "\nCLIENT_ID = 'C0KAOQEIT4JKPYXRBHL1RRXD5ARMZSDODSHTZZUAPJCUSNOO' # your Foursquare ID\nCLIENT_SECRET = 'KL0PV2VX1J1SDSRNRWRT4AR2TKYYBEZNJ3D43LPBVJUZV0U3' # your Foursquare Secret\nVERSION = '20180604'\nLIMIT = 30\nprint('Your credentails:')\nprint('CLIENT_ID: ' + CLIENT_ID)\nprint('CLIENT_SECRET:' + CLIENT_SECRET)", 
            "cell_type": "code", 
            "metadata": {}, 
            "outputs": [
                {
                    "output_type": "stream", 
                    "name": "stdout", 
                    "text": "Your credentails:\nCLIENT_ID: C0KAOQEIT4JKPYXRBHL1RRXD5ARMZSDODSHTZZUAPJCUSNOO\nCLIENT_SECRET:KL0PV2VX1J1SDSRNRWRT4AR2TKYYBEZNJ3D43LPBVJUZV0U3\n"
                }
            ], 
            "execution_count": 17
        }, 
        {
            "source": "", 
            "cell_type": "code", 
            "metadata": {}, 
            "outputs": [], 
            "execution_count": null
        }, 
        {
            "source": "\n\n#function to format url\ndef format_url(lat, lng, radius=500, limit=100):\n    return 'https://api.foursquare.com/v2/venues/explore?client_id={}&client_secret={}&ll={},{}&v={}&radius={}&limit={}'.format(CLIENT_ID, CLIENT_SECRET, \n        lat, lng, VERSION, radius, limit)\n\n", 
            "cell_type": "code", 
            "metadata": {}, 
            "outputs": [], 
            "execution_count": 18
        }, 
        {
            "source": "first_postcode = postcodes_with_coordinates_df.iloc[2, :]\nurl = format_url(first_postcode['Latitude'], first_postcode['Longitude'])\n\nurl", 
            "cell_type": "code", 
            "metadata": {}, 
            "outputs": [
                {
                    "output_type": "execute_result", 
                    "data": {
                        "text/plain": "'https://api.foursquare.com/v2/venues/explore?client_id=C0KAOQEIT4JKPYXRBHL1RRXD5ARMZSDODSHTZZUAPJCUSNOO&client_secret=KL0PV2VX1J1SDSRNRWRT4AR2TKYYBEZNJ3D43LPBVJUZV0U3&ll=43.7635726,-79.1887115&v=20180604&radius=500&limit=100'"
                    }, 
                    "execution_count": 19, 
                    "metadata": {}
                }
            ], 
            "execution_count": 19
        }, 
        {
            "source": "#function to get batch of venues as a dataframe\nimport json\nfrom pandas.io.json import json_normalize\ndef get_venues(url):\n    results = requests.get(url).json()\n    venues = results['response']['groups'][0]['items']\n    print(venues)\n    return json_normalize(venues)", 
            "cell_type": "code", 
            "metadata": {}, 
            "outputs": [], 
            "execution_count": 20
        }, 
        {
            "source": "\n\nvenues_df = get_venues(url)\n\nvenues_df.head()\n\n", 
            "cell_type": "code", 
            "metadata": {}, 
            "outputs": [
                {
                    "output_type": "stream", 
                    "name": "stdout", 
                    "text": "[{'referralId': 'e-0-4b6074e3f964a5200fe729e3-0', 'venue': {'photos': {'count': 0, 'groups': []}, 'name': 'Swiss Chalet Rotisserie & Grill', 'location': {'state': 'ON', 'formattedAddress': ['4410 Kingston Rd', 'Scarborough ON M1E 2N5', 'Canada'], 'lng': -79.1899135003439, 'lat': 43.76769708292701, 'labeledLatLngs': [{'label': 'display', 'lng': -79.1899135003439, 'lat': 43.76769708292701}], 'cc': 'CA', 'address': '4410 Kingston Rd', 'city': 'Scarborough', 'country': 'Canada', 'distance': 469, 'postalCode': 'M1E 2N5'}, 'id': '4b6074e3f964a5200fe729e3', 'categories': [{'name': 'Pizza Place', 'id': '4bf58dd8d48988d1ca941735', 'primary': True, 'shortName': 'Pizza', 'pluralName': 'Pizza Places', 'icon': {'prefix': 'https://ss3.4sqi.net/img/categories_v2/food/pizza_', 'suffix': '.png'}}]}, 'reasons': {'count': 0, 'items': [{'summary': 'This spot is popular', 'type': 'general', 'reasonName': 'globalInteractionReason'}]}}, {'referralId': 'e-0-4c62f34bde1b2d7fec89e370-1', 'venue': {'photos': {'count': 0, 'groups': []}, 'name': 'G & G Electronics', 'location': {'state': 'ON', 'formattedAddress': ['4371 kingston road', 'Toronto ON M1E 2M9', 'Canada'], 'lng': -79.191537, 'lat': 43.765309, 'labeledLatLngs': [{'label': 'display', 'lng': -79.191537, 'lat': 43.765309}], 'cc': 'CA', 'address': '4371 kingston road', 'city': 'Toronto', 'country': 'Canada', 'distance': 298, 'postalCode': 'M1E 2M9'}, 'id': '4c62f34bde1b2d7fec89e370', 'categories': [{'name': 'Electronics Store', 'id': '4bf58dd8d48988d122951735', 'primary': True, 'shortName': 'Electronics', 'pluralName': 'Electronics Stores', 'icon': {'prefix': 'https://ss3.4sqi.net/img/categories_v2/shops/technology_', 'suffix': '.png'}}]}, 'reasons': {'count': 0, 'items': [{'summary': 'This spot is popular', 'type': 'general', 'reasonName': 'globalInteractionReason'}]}}, {'referralId': 'e-0-5411f741498e9ebd5e35d8bd-2', 'venue': {'photos': {'count': 0, 'groups': []}, 'name': 'Big Bite Burrito', 'location': {'state': 'ON', 'formattedAddress': ['4383 Kingston rd.', 'Scarborough ON', 'Canada'], 'lng': -79.19071980583941, 'lat': 43.766299084470795, 'labeledLatLngs': [{'label': 'display', 'lng': -79.19071980583941, 'lat': 43.766299084470795}], 'cc': 'CA', 'address': '4383 Kingston rd.', 'city': 'Scarborough', 'country': 'Canada', 'distance': 343}, 'id': '5411f741498e9ebd5e35d8bd', 'categories': [{'name': 'Mexican Restaurant', 'id': '4bf58dd8d48988d1c1941735', 'primary': True, 'shortName': 'Mexican', 'pluralName': 'Mexican Restaurants', 'icon': {'prefix': 'https://ss3.4sqi.net/img/categories_v2/food/mexican_', 'suffix': '.png'}}]}, 'reasons': {'count': 0, 'items': [{'summary': 'This spot is popular', 'type': 'general', 'reasonName': 'globalInteractionReason'}]}}, {'referralId': 'e-0-4c1c7f9bb306c9288f0464b7-3', 'venue': {'photos': {'count': 0, 'groups': []}, 'name': 'Enterprise Rent-A-Car', 'location': {'state': 'ON', 'formattedAddress': ['4304 Kingston Road', 'Scarborough ON M1E 2M8', 'Canada'], 'lng': -79.1933707, 'lat': 43.76404170000001, 'labeledLatLngs': [{'label': 'display', 'lng': -79.1933707, 'lat': 43.76404170000001}], 'cc': 'CA', 'address': '4304 Kingston Road', 'city': 'Scarborough', 'country': 'Canada', 'distance': 378, 'postalCode': 'M1E 2M8'}, 'id': '4c1c7f9bb306c9288f0464b7', 'categories': [{'name': 'Rental Car Location', 'id': '4bf58dd8d48988d1ef941735', 'primary': True, 'shortName': 'Rental Car', 'pluralName': 'Rental Car Locations', 'icon': {'prefix': 'https://ss3.4sqi.net/img/categories_v2/shops/airport_rentalcar_', 'suffix': '.png'}}]}, 'reasons': {'count': 0, 'items': [{'summary': 'This spot is popular', 'type': 'general', 'reasonName': 'globalInteractionReason'}]}}, {'referralId': 'e-0-4b9008acf964a520737133e3-4', 'venue': {'photos': {'count': 0, 'groups': []}, 'name': 'Woburn Medical Centre', 'location': {'state': 'ON', 'formattedAddress': ['4125 Lawrence Ave E (Kingston Rd)', 'West Hill ON', 'Canada'], 'lng': -79.19228553771973, 'lat': 43.766631153138455, 'labeledLatLngs': [{'label': 'display', 'lng': -79.19228553771973, 'lat': 43.766631153138455}], 'cc': 'CA', 'address': '4125 Lawrence Ave E', 'city': 'West Hill', 'country': 'Canada', 'distance': 445, 'crossStreet': 'Kingston Rd'}, 'id': '4b9008acf964a520737133e3', 'categories': [{'name': 'Medical Center', 'id': '4bf58dd8d48988d104941735', 'primary': True, 'shortName': 'Medical', 'pluralName': 'Medical Centers', 'icon': {'prefix': 'https://ss3.4sqi.net/img/categories_v2/building/medical_', 'suffix': '.png'}}]}, 'reasons': {'count': 0, 'items': [{'summary': 'This spot is popular', 'type': 'general', 'reasonName': 'globalInteractionReason'}]}}, {'referralId': 'e-0-4d95bd2ddaec224bf7bf043e-5', 'venue': {'photos': {'count': 0, 'groups': []}, 'name': 'Eggsmart', 'location': {'state': 'ON', 'lng': -79.190466, 'lat': 43.7678, 'labeledLatLngs': [{'label': 'display', 'lng': -79.190466, 'lat': 43.7678}], 'address': '4410 Kingston Rd.', 'cc': 'CA', 'postalCode': 'M1E 2N4', 'crossStreet': 'at Lawerence Ave. E', 'formattedAddress': ['4410 Kingston Rd. (at Lawerence Ave. E)', 'Toronto ON M1E 2N4', 'Canada'], 'distance': 491, 'city': 'Toronto', 'country': 'Canada'}, 'id': '4d95bd2ddaec224bf7bf043e', 'categories': [{'name': 'Breakfast Spot', 'id': '4bf58dd8d48988d143941735', 'primary': True, 'shortName': 'Breakfast', 'pluralName': 'Breakfast Spots', 'icon': {'prefix': 'https://ss3.4sqi.net/img/categories_v2/food/breakfast_', 'suffix': '.png'}}]}, 'reasons': {'count': 0, 'items': [{'summary': 'This spot is popular', 'type': 'general', 'reasonName': 'globalInteractionReason'}]}}]\n"
                }, 
                {
                    "output_type": "execute_result", 
                    "data": {
                        "text/plain": "   reasons.count                                      reasons.items  \\\n0              0  [{'summary': 'This spot is popular', 'type': '...   \n1              0  [{'summary': 'This spot is popular', 'type': '...   \n2              0  [{'summary': 'This spot is popular', 'type': '...   \n3              0  [{'summary': 'This spot is popular', 'type': '...   \n4              0  [{'summary': 'This spot is popular', 'type': '...   \n\n                       referralId  \\\n0  e-0-4b6074e3f964a5200fe729e3-0   \n1  e-0-4c62f34bde1b2d7fec89e370-1   \n2  e-0-5411f741498e9ebd5e35d8bd-2   \n3  e-0-4c1c7f9bb306c9288f0464b7-3   \n4  e-0-4b9008acf964a520737133e3-4   \n\n                                    venue.categories  \\\n0  [{'name': 'Pizza Place', 'id': '4bf58dd8d48988...   \n1  [{'name': 'Electronics Store', 'id': '4bf58dd8...   \n2  [{'name': 'Mexican Restaurant', 'id': '4bf58dd...   \n3  [{'name': 'Rental Car Location', 'id': '4bf58d...   \n4  [{'name': 'Medical Center', 'id': '4bf58dd8d48...   \n\n                   venue.id venue.location.address venue.location.cc  \\\n0  4b6074e3f964a5200fe729e3       4410 Kingston Rd                CA   \n1  4c62f34bde1b2d7fec89e370     4371 kingston road                CA   \n2  5411f741498e9ebd5e35d8bd      4383 Kingston rd.                CA   \n3  4c1c7f9bb306c9288f0464b7     4304 Kingston Road                CA   \n4  4b9008acf964a520737133e3    4125 Lawrence Ave E                CA   \n\n  venue.location.city venue.location.country venue.location.crossStreet  \\\n0         Scarborough                 Canada                        NaN   \n1             Toronto                 Canada                        NaN   \n2         Scarborough                 Canada                        NaN   \n3         Scarborough                 Canada                        NaN   \n4           West Hill                 Canada                Kingston Rd   \n\n   venue.location.distance                    venue.location.formattedAddress  \\\n0                      469  [4410 Kingston Rd, Scarborough ON M1E 2N5, Can...   \n1                      298   [4371 kingston road, Toronto ON M1E 2M9, Canada]   \n2                      343        [4383 Kingston rd., Scarborough ON, Canada]   \n3                      378  [4304 Kingston Road, Scarborough ON M1E 2M8, C...   \n4                      445  [4125 Lawrence Ave E (Kingston Rd), West Hill ...   \n\n                       venue.location.labeledLatLngs  venue.location.lat  \\\n0  [{'label': 'display', 'lng': -79.1899135003439...           43.767697   \n1  [{'label': 'display', 'lng': -79.191537, 'lat'...           43.765309   \n2  [{'label': 'display', 'lng': -79.1907198058394...           43.766299   \n3  [{'label': 'display', 'lng': -79.1933707, 'lat...           43.764042   \n4  [{'label': 'display', 'lng': -79.1922855377197...           43.766631   \n\n   venue.location.lng venue.location.postalCode venue.location.state  \\\n0          -79.189914                   M1E 2N5                   ON   \n1          -79.191537                   M1E 2M9                   ON   \n2          -79.190720                       NaN                   ON   \n3          -79.193371                   M1E 2M8                   ON   \n4          -79.192286                       NaN                   ON   \n\n                        venue.name  venue.photos.count venue.photos.groups  \n0  Swiss Chalet Rotisserie & Grill                   0                  []  \n1                G & G Electronics                   0                  []  \n2                 Big Bite Burrito                   0                  []  \n3            Enterprise Rent-A-Car                   0                  []  \n4            Woburn Medical Centre                   0                  []  ", 
                        "text/html": "<div>\n<style scoped>\n    .dataframe tbody tr th:only-of-type {\n        vertical-align: middle;\n    }\n\n    .dataframe tbody tr th {\n        vertical-align: top;\n    }\n\n    .dataframe thead th {\n        text-align: right;\n    }\n</style>\n<table border=\"1\" class=\"dataframe\">\n  <thead>\n    <tr style=\"text-align: right;\">\n      <th></th>\n      <th>reasons.count</th>\n      <th>reasons.items</th>\n      <th>referralId</th>\n      <th>venue.categories</th>\n      <th>venue.id</th>\n      <th>venue.location.address</th>\n      <th>venue.location.cc</th>\n      <th>venue.location.city</th>\n      <th>venue.location.country</th>\n      <th>venue.location.crossStreet</th>\n      <th>venue.location.distance</th>\n      <th>venue.location.formattedAddress</th>\n      <th>venue.location.labeledLatLngs</th>\n      <th>venue.location.lat</th>\n      <th>venue.location.lng</th>\n      <th>venue.location.postalCode</th>\n      <th>venue.location.state</th>\n      <th>venue.name</th>\n      <th>venue.photos.count</th>\n      <th>venue.photos.groups</th>\n    </tr>\n  </thead>\n  <tbody>\n    <tr>\n      <th>0</th>\n      <td>0</td>\n      <td>[{'summary': 'This spot is popular', 'type': '...</td>\n      <td>e-0-4b6074e3f964a5200fe729e3-0</td>\n      <td>[{'name': 'Pizza Place', 'id': '4bf58dd8d48988...</td>\n      <td>4b6074e3f964a5200fe729e3</td>\n      <td>4410 Kingston Rd</td>\n      <td>CA</td>\n      <td>Scarborough</td>\n      <td>Canada</td>\n      <td>NaN</td>\n      <td>469</td>\n      <td>[4410 Kingston Rd, Scarborough ON M1E 2N5, Can...</td>\n      <td>[{'label': 'display', 'lng': -79.1899135003439...</td>\n      <td>43.767697</td>\n      <td>-79.189914</td>\n      <td>M1E 2N5</td>\n      <td>ON</td>\n      <td>Swiss Chalet Rotisserie &amp; Grill</td>\n      <td>0</td>\n      <td>[]</td>\n    </tr>\n    <tr>\n      <th>1</th>\n      <td>0</td>\n      <td>[{'summary': 'This spot is popular', 'type': '...</td>\n      <td>e-0-4c62f34bde1b2d7fec89e370-1</td>\n      <td>[{'name': 'Electronics Store', 'id': '4bf58dd8...</td>\n      <td>4c62f34bde1b2d7fec89e370</td>\n      <td>4371 kingston road</td>\n      <td>CA</td>\n      <td>Toronto</td>\n      <td>Canada</td>\n      <td>NaN</td>\n      <td>298</td>\n      <td>[4371 kingston road, Toronto ON M1E 2M9, Canada]</td>\n      <td>[{'label': 'display', 'lng': -79.191537, 'lat'...</td>\n      <td>43.765309</td>\n      <td>-79.191537</td>\n      <td>M1E 2M9</td>\n      <td>ON</td>\n      <td>G &amp; G Electronics</td>\n      <td>0</td>\n      <td>[]</td>\n    </tr>\n    <tr>\n      <th>2</th>\n      <td>0</td>\n      <td>[{'summary': 'This spot is popular', 'type': '...</td>\n      <td>e-0-5411f741498e9ebd5e35d8bd-2</td>\n      <td>[{'name': 'Mexican Restaurant', 'id': '4bf58dd...</td>\n      <td>5411f741498e9ebd5e35d8bd</td>\n      <td>4383 Kingston rd.</td>\n      <td>CA</td>\n      <td>Scarborough</td>\n      <td>Canada</td>\n      <td>NaN</td>\n      <td>343</td>\n      <td>[4383 Kingston rd., Scarborough ON, Canada]</td>\n      <td>[{'label': 'display', 'lng': -79.1907198058394...</td>\n      <td>43.766299</td>\n      <td>-79.190720</td>\n      <td>NaN</td>\n      <td>ON</td>\n      <td>Big Bite Burrito</td>\n      <td>0</td>\n      <td>[]</td>\n    </tr>\n    <tr>\n      <th>3</th>\n      <td>0</td>\n      <td>[{'summary': 'This spot is popular', 'type': '...</td>\n      <td>e-0-4c1c7f9bb306c9288f0464b7-3</td>\n      <td>[{'name': 'Rental Car Location', 'id': '4bf58d...</td>\n      <td>4c1c7f9bb306c9288f0464b7</td>\n      <td>4304 Kingston Road</td>\n      <td>CA</td>\n      <td>Scarborough</td>\n      <td>Canada</td>\n      <td>NaN</td>\n      <td>378</td>\n      <td>[4304 Kingston Road, Scarborough ON M1E 2M8, C...</td>\n      <td>[{'label': 'display', 'lng': -79.1933707, 'lat...</td>\n      <td>43.764042</td>\n      <td>-79.193371</td>\n      <td>M1E 2M8</td>\n      <td>ON</td>\n      <td>Enterprise Rent-A-Car</td>\n      <td>0</td>\n      <td>[]</td>\n    </tr>\n    <tr>\n      <th>4</th>\n      <td>0</td>\n      <td>[{'summary': 'This spot is popular', 'type': '...</td>\n      <td>e-0-4b9008acf964a520737133e3-4</td>\n      <td>[{'name': 'Medical Center', 'id': '4bf58dd8d48...</td>\n      <td>4b9008acf964a520737133e3</td>\n      <td>4125 Lawrence Ave E</td>\n      <td>CA</td>\n      <td>West Hill</td>\n      <td>Canada</td>\n      <td>Kingston Rd</td>\n      <td>445</td>\n      <td>[4125 Lawrence Ave E (Kingston Rd), West Hill ...</td>\n      <td>[{'label': 'display', 'lng': -79.1922855377197...</td>\n      <td>43.766631</td>\n      <td>-79.192286</td>\n      <td>NaN</td>\n      <td>ON</td>\n      <td>Woburn Medical Centre</td>\n      <td>0</td>\n      <td>[]</td>\n    </tr>\n  </tbody>\n</table>\n</div>"
                    }, 
                    "execution_count": 21, 
                    "metadata": {}
                }
            ], 
            "execution_count": 21
        }, 
        {
            "source": "#function to clean the venues dataframe\ndef clean_df(df):\n    relevant_columns = ['venue.categories', 'venue.location.lat', 'venue.location.lng', 'venue.name']\n    clean_df = df.loc[:,relevant_columns]\n\n    #rename columns\n    clean_df.columns = ['Category', 'Lat', 'Lng', 'Name']\n    return clean_df \n\nvenues_df = clean_df(venues_df)\nvenues_df.head()", 
            "cell_type": "code", 
            "metadata": {}, 
            "outputs": [
                {
                    "output_type": "execute_result", 
                    "data": {
                        "text/plain": "                                            Category        Lat        Lng  \\\n0  [{'name': 'Pizza Place', 'id': '4bf58dd8d48988...  43.767697 -79.189914   \n1  [{'name': 'Electronics Store', 'id': '4bf58dd8...  43.765309 -79.191537   \n2  [{'name': 'Mexican Restaurant', 'id': '4bf58dd...  43.766299 -79.190720   \n3  [{'name': 'Rental Car Location', 'id': '4bf58d...  43.764042 -79.193371   \n4  [{'name': 'Medical Center', 'id': '4bf58dd8d48...  43.766631 -79.192286   \n\n                              Name  \n0  Swiss Chalet Rotisserie & Grill  \n1                G & G Electronics  \n2                 Big Bite Burrito  \n3            Enterprise Rent-A-Car  \n4            Woburn Medical Centre  ", 
                        "text/html": "<div>\n<style scoped>\n    .dataframe tbody tr th:only-of-type {\n        vertical-align: middle;\n    }\n\n    .dataframe tbody tr th {\n        vertical-align: top;\n    }\n\n    .dataframe thead th {\n        text-align: right;\n    }\n</style>\n<table border=\"1\" class=\"dataframe\">\n  <thead>\n    <tr style=\"text-align: right;\">\n      <th></th>\n      <th>Category</th>\n      <th>Lat</th>\n      <th>Lng</th>\n      <th>Name</th>\n    </tr>\n  </thead>\n  <tbody>\n    <tr>\n      <th>0</th>\n      <td>[{'name': 'Pizza Place', 'id': '4bf58dd8d48988...</td>\n      <td>43.767697</td>\n      <td>-79.189914</td>\n      <td>Swiss Chalet Rotisserie &amp; Grill</td>\n    </tr>\n    <tr>\n      <th>1</th>\n      <td>[{'name': 'Electronics Store', 'id': '4bf58dd8...</td>\n      <td>43.765309</td>\n      <td>-79.191537</td>\n      <td>G &amp; G Electronics</td>\n    </tr>\n    <tr>\n      <th>2</th>\n      <td>[{'name': 'Mexican Restaurant', 'id': '4bf58dd...</td>\n      <td>43.766299</td>\n      <td>-79.190720</td>\n      <td>Big Bite Burrito</td>\n    </tr>\n    <tr>\n      <th>3</th>\n      <td>[{'name': 'Rental Car Location', 'id': '4bf58d...</td>\n      <td>43.764042</td>\n      <td>-79.193371</td>\n      <td>Enterprise Rent-A-Car</td>\n    </tr>\n    <tr>\n      <th>4</th>\n      <td>[{'name': 'Medical Center', 'id': '4bf58dd8d48...</td>\n      <td>43.766631</td>\n      <td>-79.192286</td>\n      <td>Woburn Medical Centre</td>\n    </tr>\n  </tbody>\n</table>\n</div>"
                    }, 
                    "execution_count": 22, 
                    "metadata": {}
                }
            ], 
            "execution_count": 22
        }, 
        {
            "source": "#     Get Categories of the Venues", 
            "cell_type": "markdown", 
            "metadata": {}
        }, 
        {
            "source": "#function that extract the category name\ndef get_category_name(row):\n    category_json = row['Category']\n    try:\n        return category_json[0]['name']\n    except:        \n        return None\n\nvenues_df['Category'] = venues_df.apply(get_category_name, axis=1)\n\nvenues_df", 
            "cell_type": "code", 
            "metadata": {}, 
            "outputs": [
                {
                    "output_type": "execute_result", 
                    "data": {
                        "text/plain": "              Category        Lat        Lng                             Name\n0          Pizza Place  43.767697 -79.189914  Swiss Chalet Rotisserie & Grill\n1    Electronics Store  43.765309 -79.191537                G & G Electronics\n2   Mexican Restaurant  43.766299 -79.190720                 Big Bite Burrito\n3  Rental Car Location  43.764042 -79.193371            Enterprise Rent-A-Car\n4       Medical Center  43.766631 -79.192286            Woburn Medical Centre\n5       Breakfast Spot  43.767800 -79.190466                         Eggsmart", 
                        "text/html": "<div>\n<style scoped>\n    .dataframe tbody tr th:only-of-type {\n        vertical-align: middle;\n    }\n\n    .dataframe tbody tr th {\n        vertical-align: top;\n    }\n\n    .dataframe thead th {\n        text-align: right;\n    }\n</style>\n<table border=\"1\" class=\"dataframe\">\n  <thead>\n    <tr style=\"text-align: right;\">\n      <th></th>\n      <th>Category</th>\n      <th>Lat</th>\n      <th>Lng</th>\n      <th>Name</th>\n    </tr>\n  </thead>\n  <tbody>\n    <tr>\n      <th>0</th>\n      <td>Pizza Place</td>\n      <td>43.767697</td>\n      <td>-79.189914</td>\n      <td>Swiss Chalet Rotisserie &amp; Grill</td>\n    </tr>\n    <tr>\n      <th>1</th>\n      <td>Electronics Store</td>\n      <td>43.765309</td>\n      <td>-79.191537</td>\n      <td>G &amp; G Electronics</td>\n    </tr>\n    <tr>\n      <th>2</th>\n      <td>Mexican Restaurant</td>\n      <td>43.766299</td>\n      <td>-79.190720</td>\n      <td>Big Bite Burrito</td>\n    </tr>\n    <tr>\n      <th>3</th>\n      <td>Rental Car Location</td>\n      <td>43.764042</td>\n      <td>-79.193371</td>\n      <td>Enterprise Rent-A-Car</td>\n    </tr>\n    <tr>\n      <th>4</th>\n      <td>Medical Center</td>\n      <td>43.766631</td>\n      <td>-79.192286</td>\n      <td>Woburn Medical Centre</td>\n    </tr>\n    <tr>\n      <th>5</th>\n      <td>Breakfast Spot</td>\n      <td>43.767800</td>\n      <td>-79.190466</td>\n      <td>Eggsmart</td>\n    </tr>\n  </tbody>\n</table>\n</div>"
                    }, 
                    "execution_count": 23, 
                    "metadata": {}
                }
            ], 
            "execution_count": 23
        }, 
        {
            "source": "# function to get the closest postcode pair and the distance using latitude and longitude", 
            "cell_type": "markdown", 
            "metadata": {}
        }, 
        {
            "source": " from geopy.distance import great_circle\n\n\ndef closest_postcode(postcode, postcodes):\n    postcode = np.asarray(postcode).reshape(1,-1)\n    postcodes = np.asarray(postcodes)\n    distances = [great_circle(postcode, point).meters for point in postcodes]\n    closest_postcode_index = np.argmin(distances)\n    return [round(distances[closest_postcode_index]), closest_postcode_index]", 
            "cell_type": "code", 
            "metadata": {}, 
            "outputs": [], 
            "execution_count": 24
        }, 
        {
            "source": "coordinates = postcodes_with_coordinates_df[['Latitude', 'Longitude']]\nimport matplotlib.pyplot as plt\n\nX = postcodes_with_coordinates_df[['Longitude', 'Latitude']]\n\ndistance, closest_point_index = closest_postcode(coordinates[:1], coordinates[~coordinates.index.isin([0])])\nclose_points = X[:1].append(X[closest_point_index+1:closest_point_index+2])\nclose_points", 
            "cell_type": "code", 
            "metadata": {}, 
            "outputs": [
                {
                    "output_type": "execute_result", 
                    "data": {
                        "text/plain": "    Longitude   Latitude\n0  -79.194353  43.806686\n16 -79.205636  43.836125", 
                        "text/html": "<div>\n<style scoped>\n    .dataframe tbody tr th:only-of-type {\n        vertical-align: middle;\n    }\n\n    .dataframe tbody tr th {\n        vertical-align: top;\n    }\n\n    .dataframe thead th {\n        text-align: right;\n    }\n</style>\n<table border=\"1\" class=\"dataframe\">\n  <thead>\n    <tr style=\"text-align: right;\">\n      <th></th>\n      <th>Longitude</th>\n      <th>Latitude</th>\n    </tr>\n  </thead>\n  <tbody>\n    <tr>\n      <th>0</th>\n      <td>-79.194353</td>\n      <td>43.806686</td>\n    </tr>\n    <tr>\n      <th>16</th>\n      <td>-79.205636</td>\n      <td>43.836125</td>\n    </tr>\n  </tbody>\n</table>\n</div>"
                    }, 
                    "execution_count": 25, 
                    "metadata": {}
                }
            ], 
            "execution_count": 25
        }, 
        {
            "source": "from math import isnan\n\nfor lat, lng, idx in zip(postcodes_with_coordinates_df['Latitude'], postcodes_with_coordinates_df['Longitude'], postcodes_with_coordinates_df.index):\n    distance, closest_point_index = closest_postcode([lat,lng], coordinates[~coordinates.index.isin([idx])])\n    postcodes_with_coordinates_df.at[idx,'Distance'] = np.int64(distance//2) #use the half of the disstance to avoid overlapping\n    \npostcodes_with_coordinates_df.head(15)", 
            "cell_type": "code", 
            "metadata": {}, 
            "outputs": [
                {
                    "output_type": "execute_result", 
                    "data": {
                        "text/plain": "   Postcode      Borough                                       Neighborhood  \\\n0       M1B  Scarborough                                     Rouge, Malvern   \n1       M1C  Scarborough             Highland Creek, Rouge Hill, Port Union   \n2       M1E  Scarborough                  Guildwood, Morningside, West Hill   \n3       M1G  Scarborough                                             Woburn   \n4       M1H  Scarborough                                          Cedarbrae   \n5       M1J  Scarborough                                Scarborough Village   \n6       M1K  Scarborough        East Birchmount Park, Ionview, Kennedy Park   \n7       M1L  Scarborough                    Clairlea, Golden Mile, Oakridge   \n8       M1M  Scarborough    Cliffcrest, Cliffside, Scarborough Village West   \n9       M1N  Scarborough                        Birch Cliff, Cliffside West   \n10      M1P  Scarborough  Dorset Park, Scarborough Town Centre, Wexford ...   \n11      M1R  Scarborough                                  Maryvale, Wexford   \n12      M1S  Scarborough                                          Agincourt   \n13      M1T  Scarborough            Clarks Corners, Sullivan, Tam O'Shanter   \n14      M1V  Scarborough  Agincourt North, L'Amoreaux East, Milliken, St...   \n\n     Latitude  Longitude  Distance  \n0   43.806686 -79.194353    1698.0  \n1   43.784535 -79.160497    1625.0  \n2   43.763573 -79.188711    1205.0  \n3   43.770992 -79.216917     913.0  \n4   43.773136 -79.239476     913.0  \n5   43.744734 -79.239476    1302.0  \n6   43.727929 -79.262029    1113.0  \n7   43.711112 -79.284577    1052.0  \n8   43.716316 -79.239476    1113.0  \n9   43.692657 -79.264848    1297.0  \n10  43.757410 -79.273304     993.0  \n11  43.750072 -79.295849     993.0  \n12  43.794200 -79.262029    1480.0  \n13  43.781638 -79.304302    1144.0  \n14  43.815252 -79.284577    1480.0  ", 
                        "text/html": "<div>\n<style scoped>\n    .dataframe tbody tr th:only-of-type {\n        vertical-align: middle;\n    }\n\n    .dataframe tbody tr th {\n        vertical-align: top;\n    }\n\n    .dataframe thead th {\n        text-align: right;\n    }\n</style>\n<table border=\"1\" class=\"dataframe\">\n  <thead>\n    <tr style=\"text-align: right;\">\n      <th></th>\n      <th>Postcode</th>\n      <th>Borough</th>\n      <th>Neighborhood</th>\n      <th>Latitude</th>\n      <th>Longitude</th>\n      <th>Distance</th>\n    </tr>\n  </thead>\n  <tbody>\n    <tr>\n      <th>0</th>\n      <td>M1B</td>\n      <td>Scarborough</td>\n      <td>Rouge, Malvern</td>\n      <td>43.806686</td>\n      <td>-79.194353</td>\n      <td>1698.0</td>\n    </tr>\n    <tr>\n      <th>1</th>\n      <td>M1C</td>\n      <td>Scarborough</td>\n      <td>Highland Creek, Rouge Hill, Port Union</td>\n      <td>43.784535</td>\n      <td>-79.160497</td>\n      <td>1625.0</td>\n    </tr>\n    <tr>\n      <th>2</th>\n      <td>M1E</td>\n      <td>Scarborough</td>\n      <td>Guildwood, Morningside, West Hill</td>\n      <td>43.763573</td>\n      <td>-79.188711</td>\n      <td>1205.0</td>\n    </tr>\n    <tr>\n      <th>3</th>\n      <td>M1G</td>\n      <td>Scarborough</td>\n      <td>Woburn</td>\n      <td>43.770992</td>\n      <td>-79.216917</td>\n      <td>913.0</td>\n    </tr>\n    <tr>\n      <th>4</th>\n      <td>M1H</td>\n      <td>Scarborough</td>\n      <td>Cedarbrae</td>\n      <td>43.773136</td>\n      <td>-79.239476</td>\n      <td>913.0</td>\n    </tr>\n    <tr>\n      <th>5</th>\n      <td>M1J</td>\n      <td>Scarborough</td>\n      <td>Scarborough Village</td>\n      <td>43.744734</td>\n      <td>-79.239476</td>\n      <td>1302.0</td>\n    </tr>\n    <tr>\n      <th>6</th>\n      <td>M1K</td>\n      <td>Scarborough</td>\n      <td>East Birchmount Park, Ionview, Kennedy Park</td>\n      <td>43.727929</td>\n      <td>-79.262029</td>\n      <td>1113.0</td>\n    </tr>\n    <tr>\n      <th>7</th>\n      <td>M1L</td>\n      <td>Scarborough</td>\n      <td>Clairlea, Golden Mile, Oakridge</td>\n      <td>43.711112</td>\n      <td>-79.284577</td>\n      <td>1052.0</td>\n    </tr>\n    <tr>\n      <th>8</th>\n      <td>M1M</td>\n      <td>Scarborough</td>\n      <td>Cliffcrest, Cliffside, Scarborough Village West</td>\n      <td>43.716316</td>\n      <td>-79.239476</td>\n      <td>1113.0</td>\n    </tr>\n    <tr>\n      <th>9</th>\n      <td>M1N</td>\n      <td>Scarborough</td>\n      <td>Birch Cliff, Cliffside West</td>\n      <td>43.692657</td>\n      <td>-79.264848</td>\n      <td>1297.0</td>\n    </tr>\n    <tr>\n      <th>10</th>\n      <td>M1P</td>\n      <td>Scarborough</td>\n      <td>Dorset Park, Scarborough Town Centre, Wexford ...</td>\n      <td>43.757410</td>\n      <td>-79.273304</td>\n      <td>993.0</td>\n    </tr>\n    <tr>\n      <th>11</th>\n      <td>M1R</td>\n      <td>Scarborough</td>\n      <td>Maryvale, Wexford</td>\n      <td>43.750072</td>\n      <td>-79.295849</td>\n      <td>993.0</td>\n    </tr>\n    <tr>\n      <th>12</th>\n      <td>M1S</td>\n      <td>Scarborough</td>\n      <td>Agincourt</td>\n      <td>43.794200</td>\n      <td>-79.262029</td>\n      <td>1480.0</td>\n    </tr>\n    <tr>\n      <th>13</th>\n      <td>M1T</td>\n      <td>Scarborough</td>\n      <td>Clarks Corners, Sullivan, Tam O'Shanter</td>\n      <td>43.781638</td>\n      <td>-79.304302</td>\n      <td>1144.0</td>\n    </tr>\n    <tr>\n      <th>14</th>\n      <td>M1V</td>\n      <td>Scarborough</td>\n      <td>Agincourt North, L'Amoreaux East, Milliken, St...</td>\n      <td>43.815252</td>\n      <td>-79.284577</td>\n      <td>1480.0</td>\n    </tr>\n  </tbody>\n</table>\n</div>"
                    }, 
                    "execution_count": 26, 
                    "metadata": {}
                }
            ], 
            "execution_count": 26
        }, 
        {
            "source": "#function to construct the dataframe with all the venues (max 100 venues per postal code)\ndef get_all_venues(postcodes, lat, lng, radius):\n    \n    venues_list=[]\n    for postcode, lat, lng, radius in zip(postcodes, lat, lng, radius):\n        url= format_url(lat, lng, radius)\n        results = requests.get(url).json()['response']['groups'][0]['items']\n        \n        venues_list.append([(\n            postcode, \n            lat, \n            lng, \n            v['venue']['name'], \n            v['venue']['location']['lat'], \n            v['venue']['location']['lng'], \n            v['venue']['categories'][0]['name'])\n            for v in results])\n    all_venues = pd.DataFrame([item for venue_list in venues_list for item in venue_list])\n    all_venues.columns = ['Postcode', \n                  'Postcode Latitude', \n                  'Postcode Longitude', \n                  'Venue', \n                  'Venue Latitude', \n                  'Venue Longitude',\n                  'Venue Category'\n                  ]\n    \n    return all_venues", 
            "cell_type": "code", 
            "metadata": {}, 
            "outputs": [], 
            "execution_count": 27
        }, 
        {
            "source": "all_venues = get_all_venues(postcodes_with_coordinates_df['Postcode'], postcodes_with_coordinates_df['Latitude'], postcodes_with_coordinates_df['Longitude'], postcodes_with_coordinates_df['Distance'])\n\nprint('The total number of venues returned is ', all_venues.shape[0])\n\nall_venues.head(10)", 
            "cell_type": "code", 
            "metadata": {}, 
            "outputs": [
                {
                    "output_type": "stream", 
                    "name": "stdout", 
                    "text": "The total number of venues returned is  3305\n"
                }, 
                {
                    "output_type": "execute_result", 
                    "data": {
                        "text/plain": "  Postcode  Postcode Latitude  Postcode Longitude  \\\n0      M1B          43.806686          -79.194353   \n1      M1B          43.806686          -79.194353   \n2      M1B          43.806686          -79.194353   \n3      M1B          43.806686          -79.194353   \n4      M1B          43.806686          -79.194353   \n5      M1B          43.806686          -79.194353   \n6      M1B          43.806686          -79.194353   \n7      M1B          43.806686          -79.194353   \n8      M1B          43.806686          -79.194353   \n9      M1B          43.806686          -79.194353   \n\n                         Venue  Venue Latitude  Venue Longitude  \\\n0  African Rainforest Pavilion       43.817725       -79.183433   \n1           Images Salon & Spa       43.802283       -79.198565   \n2            Canadiana exhibit       43.817962       -79.193374   \n3              penguin exhibit       43.819435       -79.185959   \n4                 Lion Exhibit       43.819228       -79.186977   \n5               Caribbean Wave       43.798558       -79.195777   \n6              Gorilla Exhibit       43.819080       -79.184235   \n7            Orangutan Exhibit       43.818413       -79.182548   \n8                         LCBO       43.796671       -79.204586   \n9                      Wendy's       43.802008       -79.198080   \n\n         Venue Category  \n0           Zoo Exhibit  \n1                   Spa  \n2           Zoo Exhibit  \n3           Zoo Exhibit  \n4           Zoo Exhibit  \n5  Caribbean Restaurant  \n6           Zoo Exhibit  \n7           Zoo Exhibit  \n8          Liquor Store  \n9  Fast Food Restaurant  ", 
                        "text/html": "<div>\n<style scoped>\n    .dataframe tbody tr th:only-of-type {\n        vertical-align: middle;\n    }\n\n    .dataframe tbody tr th {\n        vertical-align: top;\n    }\n\n    .dataframe thead th {\n        text-align: right;\n    }\n</style>\n<table border=\"1\" class=\"dataframe\">\n  <thead>\n    <tr style=\"text-align: right;\">\n      <th></th>\n      <th>Postcode</th>\n      <th>Postcode Latitude</th>\n      <th>Postcode Longitude</th>\n      <th>Venue</th>\n      <th>Venue Latitude</th>\n      <th>Venue Longitude</th>\n      <th>Venue Category</th>\n    </tr>\n  </thead>\n  <tbody>\n    <tr>\n      <th>0</th>\n      <td>M1B</td>\n      <td>43.806686</td>\n      <td>-79.194353</td>\n      <td>African Rainforest Pavilion</td>\n      <td>43.817725</td>\n      <td>-79.183433</td>\n      <td>Zoo Exhibit</td>\n    </tr>\n    <tr>\n      <th>1</th>\n      <td>M1B</td>\n      <td>43.806686</td>\n      <td>-79.194353</td>\n      <td>Images Salon &amp; Spa</td>\n      <td>43.802283</td>\n      <td>-79.198565</td>\n      <td>Spa</td>\n    </tr>\n    <tr>\n      <th>2</th>\n      <td>M1B</td>\n      <td>43.806686</td>\n      <td>-79.194353</td>\n      <td>Canadiana exhibit</td>\n      <td>43.817962</td>\n      <td>-79.193374</td>\n      <td>Zoo Exhibit</td>\n    </tr>\n    <tr>\n      <th>3</th>\n      <td>M1B</td>\n      <td>43.806686</td>\n      <td>-79.194353</td>\n      <td>penguin exhibit</td>\n      <td>43.819435</td>\n      <td>-79.185959</td>\n      <td>Zoo Exhibit</td>\n    </tr>\n    <tr>\n      <th>4</th>\n      <td>M1B</td>\n      <td>43.806686</td>\n      <td>-79.194353</td>\n      <td>Lion Exhibit</td>\n      <td>43.819228</td>\n      <td>-79.186977</td>\n      <td>Zoo Exhibit</td>\n    </tr>\n    <tr>\n      <th>5</th>\n      <td>M1B</td>\n      <td>43.806686</td>\n      <td>-79.194353</td>\n      <td>Caribbean Wave</td>\n      <td>43.798558</td>\n      <td>-79.195777</td>\n      <td>Caribbean Restaurant</td>\n    </tr>\n    <tr>\n      <th>6</th>\n      <td>M1B</td>\n      <td>43.806686</td>\n      <td>-79.194353</td>\n      <td>Gorilla Exhibit</td>\n      <td>43.819080</td>\n      <td>-79.184235</td>\n      <td>Zoo Exhibit</td>\n    </tr>\n    <tr>\n      <th>7</th>\n      <td>M1B</td>\n      <td>43.806686</td>\n      <td>-79.194353</td>\n      <td>Orangutan Exhibit</td>\n      <td>43.818413</td>\n      <td>-79.182548</td>\n      <td>Zoo Exhibit</td>\n    </tr>\n    <tr>\n      <th>8</th>\n      <td>M1B</td>\n      <td>43.806686</td>\n      <td>-79.194353</td>\n      <td>LCBO</td>\n      <td>43.796671</td>\n      <td>-79.204586</td>\n      <td>Liquor Store</td>\n    </tr>\n    <tr>\n      <th>9</th>\n      <td>M1B</td>\n      <td>43.806686</td>\n      <td>-79.194353</td>\n      <td>Wendy's</td>\n      <td>43.802008</td>\n      <td>-79.198080</td>\n      <td>Fast Food Restaurant</td>\n    </tr>\n  </tbody>\n</table>\n</div>"
                    }, 
                    "execution_count": 30, 
                    "metadata": {}
                }
            ], 
            "execution_count": 30
        }, 
        {
            "source": "\n\nprint('Total Toronto postcodes:', postcodes_with_coordinates_df['Postcode'].shape[0])\nprint('Total Toronto postcodes with venues:', all_venues['Postcode'].unique().shape[0])\n\n", 
            "cell_type": "code", 
            "metadata": {}, 
            "outputs": [
                {
                    "output_type": "stream", 
                    "name": "stdout", 
                    "text": "Total Toronto postcodes: 103\nTotal Toronto postcodes with venues: 102\n"
                }
            ], 
            "execution_count": 29
        }, 
        {
            "source": "# There is one postal code with no venues returned from the Foursquare API\n", 
            "cell_type": "markdown", 
            "metadata": {}
        }, 
        {
            "source": "postcodes_diff = np.setdiff1d(postcodes_with_coordinates_df['Postcode'].values,all_venues['Postcode'].unique())\npostcodes_with_coordinates_df[postcodes_with_coordinates_df['Postcode']==postcodes_diff[0]]", 
            "cell_type": "code", 
            "metadata": {}, 
            "outputs": [
                {
                    "output_type": "execute_result", 
                    "data": {
                        "text/plain": "   Postcode           Borough Neighborhood   Latitude  Longitude  Distance\n56      M5E  Downtown Toronto  Berczy Park  43.644771 -79.373306     111.0", 
                        "text/html": "<div>\n<style scoped>\n    .dataframe tbody tr th:only-of-type {\n        vertical-align: middle;\n    }\n\n    .dataframe tbody tr th {\n        vertical-align: top;\n    }\n\n    .dataframe thead th {\n        text-align: right;\n    }\n</style>\n<table border=\"1\" class=\"dataframe\">\n  <thead>\n    <tr style=\"text-align: right;\">\n      <th></th>\n      <th>Postcode</th>\n      <th>Borough</th>\n      <th>Neighborhood</th>\n      <th>Latitude</th>\n      <th>Longitude</th>\n      <th>Distance</th>\n    </tr>\n  </thead>\n  <tbody>\n    <tr>\n      <th>56</th>\n      <td>M5E</td>\n      <td>Downtown Toronto</td>\n      <td>Berczy Park</td>\n      <td>43.644771</td>\n      <td>-79.373306</td>\n      <td>111.0</td>\n    </tr>\n  </tbody>\n</table>\n</div>"
                    }, 
                    "execution_count": 33, 
                    "metadata": {}
                }
            ], 
            "execution_count": 33
        }, 
        {
            "source": "\n\nvenues_in_postcode = all_venues.groupby('Postcode').count()\nprint(venues_in_postcode)\nvenues_in_postcode = pd.DataFrame(list(zip(venues_in_postcode.index, venues_in_postcode['Venue'])), \n                                  columns=['Postcode', '# of Venues']).set_index('Postcode').join(postcodes_with_coordinates_df[['Postcode','Distance']].set_index('Postcode'), on='Postcode').reset_index()\nvenues_in_postcode['Distance'] = np.int64(venues_in_postcode['Distance'])", 
            "cell_type": "code", 
            "metadata": {}, 
            "outputs": [
                {
                    "output_type": "stream", 
                    "name": "stdout", 
                    "text": "          Postcode Latitude  Postcode Longitude  Venue  Venue Latitude  \\\nPostcode                                                                 \nM1B                      39                  39     39              39   \nM1C                       8                   8      8               8   \nM1E                      26                  26     26              26   \nM1G                       4                   4      4               4   \nM1H                      21                  21     21              21   \nM1J                      23                  23     23              23   \nM1K                      26                  26     26              26   \nM1L                      31                  31     31              31   \nM1M                      18                  18     18              18   \nM1N                      17                  17     17              17   \nM1P                      44                  44     44              44   \nM1R                      29                  29     29              29   \nM1S                      64                  64     64              64   \nM1T                      42                  42     42              42   \nM1V                      69                  69     69              69   \nM1W                      36                  36     36              36   \nM1X                       6                   6      6               6   \nM2H                      27                  27     27              27   \nM2J                      63                  63     63              63   \nM2K                      13                  13     13              13   \nM2L                       5                   5      5               5   \nM2M                      26                  26     26              26   \nM2N                     100                 100    100             100   \nM2P                      24                  24     24              24   \nM2R                      34                  34     34              34   \nM3A                      29                  29     29              29   \nM3B                      28                  28     28              28   \nM3C                      44                  44     44              44   \nM3H                      38                  38     38              38   \nM3J                      40                  40     40              40   \n...                     ...                 ...    ...             ...   \nM6C                       5                   5      5               5   \nM6E                      23                  23     23              23   \nM6G                      23                  23     23              23   \nM6H                      42                  42     42              42   \nM6J                     100                 100    100             100   \nM6K                      69                  69     69              69   \nM6L                       6                   6      6               6   \nM6M                      12                  12     12              12   \nM6N                      39                  39     39              39   \nM6P                      59                  59     59              59   \nM6R                      67                  67     67              67   \nM6S                      77                  77     77              77   \nM7A                       5                   5      5               5   \nM7R                      66                  66     66              66   \nM7Y                      15                  15     15              15   \nM8V                      45                  45     45              45   \nM8W                      62                  62     62              62   \nM8X                      40                  40     40              40   \nM8Y                       8                   8      8               8   \nM8Z                      56                  56     56              56   \nM9A                      23                  23     23              23   \nM9B                      15                  15     15              15   \nM9C                      14                  14     14              14   \nM9L                      16                  16     16              16   \nM9M                       9                   9      9               9   \nM9N                       6                   6      6               6   \nM9P                      12                  12     12              12   \nM9R                      14                  14     14              14   \nM9V                      20                  20     20              20   \nM9W                      27                  27     27              27   \n\n          Venue Longitude  Venue Category  \nPostcode                                   \nM1B                    39              39  \nM1C                     8               8  \nM1E                    26              26  \nM1G                     4               4  \nM1H                    21              21  \nM1J                    23              23  \nM1K                    26              26  \nM1L                    31              31  \nM1M                    18              18  \nM1N                    17              17  \nM1P                    44              44  \nM1R                    29              29  \nM1S                    64              64  \nM1T                    42              42  \nM1V                    69              69  \nM1W                    36              36  \nM1X                     6               6  \nM2H                    27              27  \nM2J                    63              63  \nM2K                    13              13  \nM2L                     5               5  \nM2M                    26              26  \nM2N                   100             100  \nM2P                    24              24  \nM2R                    34              34  \nM3A                    29              29  \nM3B                    28              28  \nM3C                    44              44  \nM3H                    38              38  \nM3J                    40              40  \n...                   ...             ...  \nM6C                     5               5  \nM6E                    23              23  \nM6G                    23              23  \nM6H                    42              42  \nM6J                   100             100  \nM6K                    69              69  \nM6L                     6               6  \nM6M                    12              12  \nM6N                    39              39  \nM6P                    59              59  \nM6R                    67              67  \nM6S                    77              77  \nM7A                     5               5  \nM7R                    66              66  \nM7Y                    15              15  \nM8V                    45              45  \nM8W                    62              62  \nM8X                    40              40  \nM8Y                     8               8  \nM8Z                    56              56  \nM9A                    23              23  \nM9B                    15              15  \nM9C                    14              14  \nM9L                    16              16  \nM9M                     9               9  \nM9N                     6               6  \nM9P                    12              12  \nM9R                    14              14  \nM9V                    20              20  \nM9W                    27              27  \n\n[102 rows x 6 columns]\n"
                }, 
                {
                    "output_type": "error", 
                    "evalue": "'Postcode'", 
                    "traceback": [
                        "\u001b[0;31m---------------------------------------------------------------------------\u001b[0m", 
                        "\u001b[0;31mKeyError\u001b[0m                                  Traceback (most recent call last)", 
                        "\u001b[0;32m/opt/conda/envs/DSX-Python35/lib/python3.5/site-packages/pandas/core/indexes/base.py\u001b[0m in \u001b[0;36mget_loc\u001b[0;34m(self, key, method, tolerance)\u001b[0m\n\u001b[1;32m   2521\u001b[0m             \u001b[0;32mtry\u001b[0m\u001b[0;34m:\u001b[0m\u001b[0;34m\u001b[0m\u001b[0m\n\u001b[0;32m-> 2522\u001b[0;31m                 \u001b[0;32mreturn\u001b[0m \u001b[0mself\u001b[0m\u001b[0;34m.\u001b[0m\u001b[0m_engine\u001b[0m\u001b[0;34m.\u001b[0m\u001b[0mget_loc\u001b[0m\u001b[0;34m(\u001b[0m\u001b[0mkey\u001b[0m\u001b[0;34m)\u001b[0m\u001b[0;34m\u001b[0m\u001b[0m\n\u001b[0m\u001b[1;32m   2523\u001b[0m             \u001b[0;32mexcept\u001b[0m \u001b[0mKeyError\u001b[0m\u001b[0;34m:\u001b[0m\u001b[0;34m\u001b[0m\u001b[0m\n", 
                        "\u001b[0;32mpandas/_libs/index.pyx\u001b[0m in \u001b[0;36mpandas._libs.index.IndexEngine.get_loc\u001b[0;34m()\u001b[0m\n", 
                        "\u001b[0;32mpandas/_libs/index.pyx\u001b[0m in \u001b[0;36mpandas._libs.index.IndexEngine.get_loc\u001b[0;34m()\u001b[0m\n", 
                        "\u001b[0;32mpandas/_libs/hashtable_class_helper.pxi\u001b[0m in \u001b[0;36mpandas._libs.hashtable.PyObjectHashTable.get_item\u001b[0;34m()\u001b[0m\n", 
                        "\u001b[0;32mpandas/_libs/hashtable_class_helper.pxi\u001b[0m in \u001b[0;36mpandas._libs.hashtable.PyObjectHashTable.get_item\u001b[0;34m()\u001b[0m\n", 
                        "\u001b[0;31mKeyError\u001b[0m: 'Postcode'", 
                        "\nDuring handling of the above exception, another exception occurred:\n", 
                        "\u001b[0;31mKeyError\u001b[0m                                  Traceback (most recent call last)", 
                        "\u001b[0;32m<ipython-input-41-bf9b714d17cd>\u001b[0m in \u001b[0;36m<module>\u001b[0;34m()\u001b[0m\n\u001b[1;32m      4\u001b[0m \u001b[0mprint\u001b[0m\u001b[0;34m(\u001b[0m\u001b[0mvenues_in_postcode\u001b[0m\u001b[0;34m)\u001b[0m\u001b[0;34m\u001b[0m\u001b[0m\n\u001b[1;32m      5\u001b[0m venues_in_postcode = pd.DataFrame(list(zip(venues_in_postcode.index, venues_in_postcode['Venue'])), \n\u001b[0;32m----> 6\u001b[0;31m                                   columns=['Postcode', '# of Venues']).set_index('Postcode').join(postcodes_with_coordinates_df[['Postcode','Distance']].set_index('Postcode'), on='Postcode').reset_index()\n\u001b[0m\u001b[1;32m      7\u001b[0m \u001b[0mvenues_in_postcode\u001b[0m\u001b[0;34m[\u001b[0m\u001b[0;34m'Distance'\u001b[0m\u001b[0;34m]\u001b[0m \u001b[0;34m=\u001b[0m \u001b[0mnp\u001b[0m\u001b[0;34m.\u001b[0m\u001b[0mint64\u001b[0m\u001b[0;34m(\u001b[0m\u001b[0mvenues_in_postcode\u001b[0m\u001b[0;34m[\u001b[0m\u001b[0;34m'Distance'\u001b[0m\u001b[0;34m]\u001b[0m\u001b[0;34m)\u001b[0m\u001b[0;34m\u001b[0m\u001b[0m\n", 
                        "\u001b[0;32m/opt/conda/envs/DSX-Python35/lib/python3.5/site-packages/pandas/core/frame.py\u001b[0m in \u001b[0;36mjoin\u001b[0;34m(self, other, on, how, lsuffix, rsuffix, sort)\u001b[0m\n\u001b[1;32m   5291\u001b[0m         \u001b[0;31m# For SparseDataFrame's benefit\u001b[0m\u001b[0;34m\u001b[0m\u001b[0;34m\u001b[0m\u001b[0m\n\u001b[1;32m   5292\u001b[0m         return self._join_compat(other, on=on, how=how, lsuffix=lsuffix,\n\u001b[0;32m-> 5293\u001b[0;31m                                  rsuffix=rsuffix, sort=sort)\n\u001b[0m\u001b[1;32m   5294\u001b[0m \u001b[0;34m\u001b[0m\u001b[0m\n\u001b[1;32m   5295\u001b[0m     def _join_compat(self, other, on=None, how='left', lsuffix='', rsuffix='',\n", 
                        "\u001b[0;32m/opt/conda/envs/DSX-Python35/lib/python3.5/site-packages/pandas/core/frame.py\u001b[0m in \u001b[0;36m_join_compat\u001b[0;34m(self, other, on, how, lsuffix, rsuffix, sort)\u001b[0m\n\u001b[1;32m   5306\u001b[0m             return merge(self, other, left_on=on, how=how,\n\u001b[1;32m   5307\u001b[0m                          \u001b[0mleft_index\u001b[0m\u001b[0;34m=\u001b[0m\u001b[0mon\u001b[0m \u001b[0;32mis\u001b[0m \u001b[0;32mNone\u001b[0m\u001b[0;34m,\u001b[0m \u001b[0mright_index\u001b[0m\u001b[0;34m=\u001b[0m\u001b[0;32mTrue\u001b[0m\u001b[0;34m,\u001b[0m\u001b[0;34m\u001b[0m\u001b[0m\n\u001b[0;32m-> 5308\u001b[0;31m                          suffixes=(lsuffix, rsuffix), sort=sort)\n\u001b[0m\u001b[1;32m   5309\u001b[0m         \u001b[0;32melse\u001b[0m\u001b[0;34m:\u001b[0m\u001b[0;34m\u001b[0m\u001b[0m\n\u001b[1;32m   5310\u001b[0m             \u001b[0;32mif\u001b[0m \u001b[0mon\u001b[0m \u001b[0;32mis\u001b[0m \u001b[0;32mnot\u001b[0m \u001b[0;32mNone\u001b[0m\u001b[0;34m:\u001b[0m\u001b[0;34m\u001b[0m\u001b[0m\n", 
                        "\u001b[0;32m/opt/conda/envs/DSX-Python35/lib/python3.5/site-packages/pandas/core/reshape/merge.py\u001b[0m in \u001b[0;36mmerge\u001b[0;34m(left, right, how, on, left_on, right_on, left_index, right_index, sort, suffixes, copy, indicator, validate)\u001b[0m\n\u001b[1;32m     55\u001b[0m                          \u001b[0mright_index\u001b[0m\u001b[0;34m=\u001b[0m\u001b[0mright_index\u001b[0m\u001b[0;34m,\u001b[0m \u001b[0msort\u001b[0m\u001b[0;34m=\u001b[0m\u001b[0msort\u001b[0m\u001b[0;34m,\u001b[0m \u001b[0msuffixes\u001b[0m\u001b[0;34m=\u001b[0m\u001b[0msuffixes\u001b[0m\u001b[0;34m,\u001b[0m\u001b[0;34m\u001b[0m\u001b[0m\n\u001b[1;32m     56\u001b[0m                          \u001b[0mcopy\u001b[0m\u001b[0;34m=\u001b[0m\u001b[0mcopy\u001b[0m\u001b[0;34m,\u001b[0m \u001b[0mindicator\u001b[0m\u001b[0;34m=\u001b[0m\u001b[0mindicator\u001b[0m\u001b[0;34m,\u001b[0m\u001b[0;34m\u001b[0m\u001b[0m\n\u001b[0;32m---> 57\u001b[0;31m                          validate=validate)\n\u001b[0m\u001b[1;32m     58\u001b[0m     \u001b[0;32mreturn\u001b[0m \u001b[0mop\u001b[0m\u001b[0;34m.\u001b[0m\u001b[0mget_result\u001b[0m\u001b[0;34m(\u001b[0m\u001b[0;34m)\u001b[0m\u001b[0;34m\u001b[0m\u001b[0m\n\u001b[1;32m     59\u001b[0m \u001b[0;34m\u001b[0m\u001b[0m\n", 
                        "\u001b[0;32m/opt/conda/envs/DSX-Python35/lib/python3.5/site-packages/pandas/core/reshape/merge.py\u001b[0m in \u001b[0;36m__init__\u001b[0;34m(self, left, right, how, on, left_on, right_on, axis, left_index, right_index, sort, suffixes, copy, indicator, validate)\u001b[0m\n\u001b[1;32m    563\u001b[0m         (self.left_join_keys,\n\u001b[1;32m    564\u001b[0m          \u001b[0mself\u001b[0m\u001b[0;34m.\u001b[0m\u001b[0mright_join_keys\u001b[0m\u001b[0;34m,\u001b[0m\u001b[0;34m\u001b[0m\u001b[0m\n\u001b[0;32m--> 565\u001b[0;31m          self.join_names) = self._get_merge_keys()\n\u001b[0m\u001b[1;32m    566\u001b[0m \u001b[0;34m\u001b[0m\u001b[0m\n\u001b[1;32m    567\u001b[0m         \u001b[0;31m# validate the merge keys dtypes. We may need to coerce\u001b[0m\u001b[0;34m\u001b[0m\u001b[0;34m\u001b[0m\u001b[0m\n", 
                        "\u001b[0;32m/opt/conda/envs/DSX-Python35/lib/python3.5/site-packages/pandas/core/reshape/merge.py\u001b[0m in \u001b[0;36m_get_merge_keys\u001b[0;34m(self)\u001b[0m\n\u001b[1;32m    847\u001b[0m                     \u001b[0mjoin_names\u001b[0m\u001b[0;34m.\u001b[0m\u001b[0mappend\u001b[0m\u001b[0;34m(\u001b[0m\u001b[0;32mNone\u001b[0m\u001b[0;34m)\u001b[0m\u001b[0;34m\u001b[0m\u001b[0m\n\u001b[1;32m    848\u001b[0m                 \u001b[0;32melse\u001b[0m\u001b[0;34m:\u001b[0m\u001b[0;34m\u001b[0m\u001b[0m\n\u001b[0;32m--> 849\u001b[0;31m                     \u001b[0mleft_keys\u001b[0m\u001b[0;34m.\u001b[0m\u001b[0mappend\u001b[0m\u001b[0;34m(\u001b[0m\u001b[0mleft\u001b[0m\u001b[0;34m[\u001b[0m\u001b[0mk\u001b[0m\u001b[0;34m]\u001b[0m\u001b[0;34m.\u001b[0m\u001b[0m_values\u001b[0m\u001b[0;34m)\u001b[0m\u001b[0;34m\u001b[0m\u001b[0m\n\u001b[0m\u001b[1;32m    850\u001b[0m                     \u001b[0mjoin_names\u001b[0m\u001b[0;34m.\u001b[0m\u001b[0mappend\u001b[0m\u001b[0;34m(\u001b[0m\u001b[0mk\u001b[0m\u001b[0;34m)\u001b[0m\u001b[0;34m\u001b[0m\u001b[0m\n\u001b[1;32m    851\u001b[0m             \u001b[0;32mif\u001b[0m \u001b[0misinstance\u001b[0m\u001b[0;34m(\u001b[0m\u001b[0mself\u001b[0m\u001b[0;34m.\u001b[0m\u001b[0mright\u001b[0m\u001b[0;34m.\u001b[0m\u001b[0mindex\u001b[0m\u001b[0;34m,\u001b[0m \u001b[0mMultiIndex\u001b[0m\u001b[0;34m)\u001b[0m\u001b[0;34m:\u001b[0m\u001b[0;34m\u001b[0m\u001b[0m\n", 
                        "\u001b[0;32m/opt/conda/envs/DSX-Python35/lib/python3.5/site-packages/pandas/core/frame.py\u001b[0m in \u001b[0;36m__getitem__\u001b[0;34m(self, key)\u001b[0m\n\u001b[1;32m   2137\u001b[0m             \u001b[0;32mreturn\u001b[0m \u001b[0mself\u001b[0m\u001b[0;34m.\u001b[0m\u001b[0m_getitem_multilevel\u001b[0m\u001b[0;34m(\u001b[0m\u001b[0mkey\u001b[0m\u001b[0;34m)\u001b[0m\u001b[0;34m\u001b[0m\u001b[0m\n\u001b[1;32m   2138\u001b[0m         \u001b[0;32melse\u001b[0m\u001b[0;34m:\u001b[0m\u001b[0;34m\u001b[0m\u001b[0m\n\u001b[0;32m-> 2139\u001b[0;31m             \u001b[0;32mreturn\u001b[0m \u001b[0mself\u001b[0m\u001b[0;34m.\u001b[0m\u001b[0m_getitem_column\u001b[0m\u001b[0;34m(\u001b[0m\u001b[0mkey\u001b[0m\u001b[0;34m)\u001b[0m\u001b[0;34m\u001b[0m\u001b[0m\n\u001b[0m\u001b[1;32m   2140\u001b[0m \u001b[0;34m\u001b[0m\u001b[0m\n\u001b[1;32m   2141\u001b[0m     \u001b[0;32mdef\u001b[0m \u001b[0m_getitem_column\u001b[0m\u001b[0;34m(\u001b[0m\u001b[0mself\u001b[0m\u001b[0;34m,\u001b[0m \u001b[0mkey\u001b[0m\u001b[0;34m)\u001b[0m\u001b[0;34m:\u001b[0m\u001b[0;34m\u001b[0m\u001b[0m\n", 
                        "\u001b[0;32m/opt/conda/envs/DSX-Python35/lib/python3.5/site-packages/pandas/core/frame.py\u001b[0m in \u001b[0;36m_getitem_column\u001b[0;34m(self, key)\u001b[0m\n\u001b[1;32m   2144\u001b[0m         \u001b[0;31m# get column\u001b[0m\u001b[0;34m\u001b[0m\u001b[0;34m\u001b[0m\u001b[0m\n\u001b[1;32m   2145\u001b[0m         \u001b[0;32mif\u001b[0m \u001b[0mself\u001b[0m\u001b[0;34m.\u001b[0m\u001b[0mcolumns\u001b[0m\u001b[0;34m.\u001b[0m\u001b[0mis_unique\u001b[0m\u001b[0;34m:\u001b[0m\u001b[0;34m\u001b[0m\u001b[0m\n\u001b[0;32m-> 2146\u001b[0;31m             \u001b[0;32mreturn\u001b[0m \u001b[0mself\u001b[0m\u001b[0;34m.\u001b[0m\u001b[0m_get_item_cache\u001b[0m\u001b[0;34m(\u001b[0m\u001b[0mkey\u001b[0m\u001b[0;34m)\u001b[0m\u001b[0;34m\u001b[0m\u001b[0m\n\u001b[0m\u001b[1;32m   2147\u001b[0m \u001b[0;34m\u001b[0m\u001b[0m\n\u001b[1;32m   2148\u001b[0m         \u001b[0;31m# duplicate columns & possible reduce dimensionality\u001b[0m\u001b[0;34m\u001b[0m\u001b[0;34m\u001b[0m\u001b[0m\n", 
                        "\u001b[0;32m/opt/conda/envs/DSX-Python35/lib/python3.5/site-packages/pandas/core/generic.py\u001b[0m in \u001b[0;36m_get_item_cache\u001b[0;34m(self, item)\u001b[0m\n\u001b[1;32m   1840\u001b[0m         \u001b[0mres\u001b[0m \u001b[0;34m=\u001b[0m \u001b[0mcache\u001b[0m\u001b[0;34m.\u001b[0m\u001b[0mget\u001b[0m\u001b[0;34m(\u001b[0m\u001b[0mitem\u001b[0m\u001b[0;34m)\u001b[0m\u001b[0;34m\u001b[0m\u001b[0m\n\u001b[1;32m   1841\u001b[0m         \u001b[0;32mif\u001b[0m \u001b[0mres\u001b[0m \u001b[0;32mis\u001b[0m \u001b[0;32mNone\u001b[0m\u001b[0;34m:\u001b[0m\u001b[0;34m\u001b[0m\u001b[0m\n\u001b[0;32m-> 1842\u001b[0;31m             \u001b[0mvalues\u001b[0m \u001b[0;34m=\u001b[0m \u001b[0mself\u001b[0m\u001b[0;34m.\u001b[0m\u001b[0m_data\u001b[0m\u001b[0;34m.\u001b[0m\u001b[0mget\u001b[0m\u001b[0;34m(\u001b[0m\u001b[0mitem\u001b[0m\u001b[0;34m)\u001b[0m\u001b[0;34m\u001b[0m\u001b[0m\n\u001b[0m\u001b[1;32m   1843\u001b[0m             \u001b[0mres\u001b[0m \u001b[0;34m=\u001b[0m \u001b[0mself\u001b[0m\u001b[0;34m.\u001b[0m\u001b[0m_box_item_values\u001b[0m\u001b[0;34m(\u001b[0m\u001b[0mitem\u001b[0m\u001b[0;34m,\u001b[0m \u001b[0mvalues\u001b[0m\u001b[0;34m)\u001b[0m\u001b[0;34m\u001b[0m\u001b[0m\n\u001b[1;32m   1844\u001b[0m             \u001b[0mcache\u001b[0m\u001b[0;34m[\u001b[0m\u001b[0mitem\u001b[0m\u001b[0;34m]\u001b[0m \u001b[0;34m=\u001b[0m \u001b[0mres\u001b[0m\u001b[0;34m\u001b[0m\u001b[0m\n", 
                        "\u001b[0;32m/opt/conda/envs/DSX-Python35/lib/python3.5/site-packages/pandas/core/internals.py\u001b[0m in \u001b[0;36mget\u001b[0;34m(self, item, fastpath)\u001b[0m\n\u001b[1;32m   3836\u001b[0m \u001b[0;34m\u001b[0m\u001b[0m\n\u001b[1;32m   3837\u001b[0m             \u001b[0;32mif\u001b[0m \u001b[0;32mnot\u001b[0m \u001b[0misna\u001b[0m\u001b[0;34m(\u001b[0m\u001b[0mitem\u001b[0m\u001b[0;34m)\u001b[0m\u001b[0;34m:\u001b[0m\u001b[0;34m\u001b[0m\u001b[0m\n\u001b[0;32m-> 3838\u001b[0;31m                 \u001b[0mloc\u001b[0m \u001b[0;34m=\u001b[0m \u001b[0mself\u001b[0m\u001b[0;34m.\u001b[0m\u001b[0mitems\u001b[0m\u001b[0;34m.\u001b[0m\u001b[0mget_loc\u001b[0m\u001b[0;34m(\u001b[0m\u001b[0mitem\u001b[0m\u001b[0;34m)\u001b[0m\u001b[0;34m\u001b[0m\u001b[0m\n\u001b[0m\u001b[1;32m   3839\u001b[0m             \u001b[0;32melse\u001b[0m\u001b[0;34m:\u001b[0m\u001b[0;34m\u001b[0m\u001b[0m\n\u001b[1;32m   3840\u001b[0m                 \u001b[0mindexer\u001b[0m \u001b[0;34m=\u001b[0m \u001b[0mnp\u001b[0m\u001b[0;34m.\u001b[0m\u001b[0marange\u001b[0m\u001b[0;34m(\u001b[0m\u001b[0mlen\u001b[0m\u001b[0;34m(\u001b[0m\u001b[0mself\u001b[0m\u001b[0;34m.\u001b[0m\u001b[0mitems\u001b[0m\u001b[0;34m)\u001b[0m\u001b[0;34m)\u001b[0m\u001b[0;34m[\u001b[0m\u001b[0misna\u001b[0m\u001b[0;34m(\u001b[0m\u001b[0mself\u001b[0m\u001b[0;34m.\u001b[0m\u001b[0mitems\u001b[0m\u001b[0;34m)\u001b[0m\u001b[0;34m]\u001b[0m\u001b[0;34m\u001b[0m\u001b[0m\n", 
                        "\u001b[0;32m/opt/conda/envs/DSX-Python35/lib/python3.5/site-packages/pandas/core/indexes/base.py\u001b[0m in \u001b[0;36mget_loc\u001b[0;34m(self, key, method, tolerance)\u001b[0m\n\u001b[1;32m   2522\u001b[0m                 \u001b[0;32mreturn\u001b[0m \u001b[0mself\u001b[0m\u001b[0;34m.\u001b[0m\u001b[0m_engine\u001b[0m\u001b[0;34m.\u001b[0m\u001b[0mget_loc\u001b[0m\u001b[0;34m(\u001b[0m\u001b[0mkey\u001b[0m\u001b[0;34m)\u001b[0m\u001b[0;34m\u001b[0m\u001b[0m\n\u001b[1;32m   2523\u001b[0m             \u001b[0;32mexcept\u001b[0m \u001b[0mKeyError\u001b[0m\u001b[0;34m:\u001b[0m\u001b[0;34m\u001b[0m\u001b[0m\n\u001b[0;32m-> 2524\u001b[0;31m                 \u001b[0;32mreturn\u001b[0m \u001b[0mself\u001b[0m\u001b[0;34m.\u001b[0m\u001b[0m_engine\u001b[0m\u001b[0;34m.\u001b[0m\u001b[0mget_loc\u001b[0m\u001b[0;34m(\u001b[0m\u001b[0mself\u001b[0m\u001b[0;34m.\u001b[0m\u001b[0m_maybe_cast_indexer\u001b[0m\u001b[0;34m(\u001b[0m\u001b[0mkey\u001b[0m\u001b[0;34m)\u001b[0m\u001b[0;34m)\u001b[0m\u001b[0;34m\u001b[0m\u001b[0m\n\u001b[0m\u001b[1;32m   2525\u001b[0m \u001b[0;34m\u001b[0m\u001b[0m\n\u001b[1;32m   2526\u001b[0m         \u001b[0mindexer\u001b[0m \u001b[0;34m=\u001b[0m \u001b[0mself\u001b[0m\u001b[0;34m.\u001b[0m\u001b[0mget_indexer\u001b[0m\u001b[0;34m(\u001b[0m\u001b[0;34m[\u001b[0m\u001b[0mkey\u001b[0m\u001b[0;34m]\u001b[0m\u001b[0;34m,\u001b[0m \u001b[0mmethod\u001b[0m\u001b[0;34m=\u001b[0m\u001b[0mmethod\u001b[0m\u001b[0;34m,\u001b[0m \u001b[0mtolerance\u001b[0m\u001b[0;34m=\u001b[0m\u001b[0mtolerance\u001b[0m\u001b[0;34m)\u001b[0m\u001b[0;34m\u001b[0m\u001b[0m\n", 
                        "\u001b[0;32mpandas/_libs/index.pyx\u001b[0m in \u001b[0;36mpandas._libs.index.IndexEngine.get_loc\u001b[0;34m()\u001b[0m\n", 
                        "\u001b[0;32mpandas/_libs/index.pyx\u001b[0m in \u001b[0;36mpandas._libs.index.IndexEngine.get_loc\u001b[0;34m()\u001b[0m\n", 
                        "\u001b[0;32mpandas/_libs/hashtable_class_helper.pxi\u001b[0m in \u001b[0;36mpandas._libs.hashtable.PyObjectHashTable.get_item\u001b[0;34m()\u001b[0m\n", 
                        "\u001b[0;32mpandas/_libs/hashtable_class_helper.pxi\u001b[0m in \u001b[0;36mpandas._libs.hashtable.PyObjectHashTable.get_item\u001b[0;34m()\u001b[0m\n", 
                        "\u001b[0;31mKeyError\u001b[0m: 'Postcode'"
                    ], 
                    "ename": "KeyError"
                }
            ], 
            "execution_count": 41
        }, 
        {
            "source": "", 
            "cell_type": "code", 
            "metadata": {}, 
            "outputs": [], 
            "execution_count": null
        }
    ], 
    "metadata": {
        "kernelspec": {
            "display_name": "Python 3.5", 
            "name": "python3", 
            "language": "python"
        }, 
        "language_info": {
            "mimetype": "text/x-python", 
            "nbconvert_exporter": "python", 
            "version": "3.5.5", 
            "name": "python", 
            "pygments_lexer": "ipython3", 
            "file_extension": ".py", 
            "codemirror_mode": {
                "version": 3, 
                "name": "ipython"
            }
        }
    }, 
    "nbformat": 4
}